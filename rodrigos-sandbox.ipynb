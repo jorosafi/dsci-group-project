{
 "cells": [
  {
   "cell_type": "code",
   "execution_count": 1,
   "metadata": {},
   "outputs": [
    {
     "name": "stderr",
     "output_type": "stream",
     "text": [
      "── \u001b[1mAttaching packages\u001b[22m ─────────────────────────────────────── tidyverse 1.3.0 ──\n",
      "\n",
      "\u001b[32m✔\u001b[39m \u001b[34mggplot2\u001b[39m 3.3.2     \u001b[32m✔\u001b[39m \u001b[34mpurrr  \u001b[39m 0.3.4\n",
      "\u001b[32m✔\u001b[39m \u001b[34mtibble \u001b[39m 3.0.3     \u001b[32m✔\u001b[39m \u001b[34mdplyr  \u001b[39m 1.0.2\n",
      "\u001b[32m✔\u001b[39m \u001b[34mtidyr  \u001b[39m 1.1.2     \u001b[32m✔\u001b[39m \u001b[34mstringr\u001b[39m 1.4.0\n",
      "\u001b[32m✔\u001b[39m \u001b[34mreadr  \u001b[39m 1.3.1     \u001b[32m✔\u001b[39m \u001b[34mforcats\u001b[39m 0.5.0\n",
      "\n",
      "Warning message:\n",
      "“package ‘ggplot2’ was built under R version 4.0.1”\n",
      "Warning message:\n",
      "“package ‘tibble’ was built under R version 4.0.2”\n",
      "Warning message:\n",
      "“package ‘tidyr’ was built under R version 4.0.2”\n",
      "Warning message:\n",
      "“package ‘dplyr’ was built under R version 4.0.2”\n",
      "── \u001b[1mConflicts\u001b[22m ────────────────────────────────────────── tidyverse_conflicts() ──\n",
      "\u001b[31m✖\u001b[39m \u001b[34mdplyr\u001b[39m::\u001b[32mfilter()\u001b[39m masks \u001b[34mstats\u001b[39m::filter()\n",
      "\u001b[31m✖\u001b[39m \u001b[34mdplyr\u001b[39m::\u001b[32mlag()\u001b[39m    masks \u001b[34mstats\u001b[39m::lag()\n",
      "\n",
      "Warning message:\n",
      "“package ‘tidymodels’ was built under R version 4.0.2”\n",
      "── \u001b[1mAttaching packages\u001b[22m ────────────────────────────────────── tidymodels 0.1.1 ──\n",
      "\n",
      "\u001b[32m✔\u001b[39m \u001b[34mbroom    \u001b[39m 0.7.0      \u001b[32m✔\u001b[39m \u001b[34mrecipes  \u001b[39m 0.1.13\n",
      "\u001b[32m✔\u001b[39m \u001b[34mdials    \u001b[39m 0.0.9      \u001b[32m✔\u001b[39m \u001b[34mrsample  \u001b[39m 0.0.7 \n",
      "\u001b[32m✔\u001b[39m \u001b[34minfer    \u001b[39m 0.5.4      \u001b[32m✔\u001b[39m \u001b[34mtune     \u001b[39m 0.1.1 \n",
      "\u001b[32m✔\u001b[39m \u001b[34mmodeldata\u001b[39m 0.0.2      \u001b[32m✔\u001b[39m \u001b[34mworkflows\u001b[39m 0.2.0 \n",
      "\u001b[32m✔\u001b[39m \u001b[34mparsnip  \u001b[39m 0.1.3      \u001b[32m✔\u001b[39m \u001b[34myardstick\u001b[39m 0.0.7 \n",
      "\n",
      "Warning message:\n",
      "“package ‘broom’ was built under R version 4.0.2”\n",
      "Warning message:\n",
      "“package ‘dials’ was built under R version 4.0.2”\n",
      "Warning message:\n",
      "“package ‘infer’ was built under R version 4.0.3”\n",
      "Warning message:\n",
      "“package ‘modeldata’ was built under R version 4.0.1”\n",
      "Warning message:\n",
      "“package ‘parsnip’ was built under R version 4.0.2”\n",
      "Warning message:\n",
      "“package ‘recipes’ was built under R version 4.0.1”\n",
      "Warning message:\n",
      "“package ‘tune’ was built under R version 4.0.2”\n",
      "Warning message:\n",
      "“package ‘workflows’ was built under R version 4.0.2”\n",
      "Warning message:\n",
      "“package ‘yardstick’ was built under R version 4.0.2”\n",
      "── \u001b[1mConflicts\u001b[22m ───────────────────────────────────────── tidymodels_conflicts() ──\n",
      "\u001b[31m✖\u001b[39m \u001b[34mscales\u001b[39m::\u001b[32mdiscard()\u001b[39m masks \u001b[34mpurrr\u001b[39m::discard()\n",
      "\u001b[31m✖\u001b[39m \u001b[34mdplyr\u001b[39m::\u001b[32mfilter()\u001b[39m   masks \u001b[34mstats\u001b[39m::filter()\n",
      "\u001b[31m✖\u001b[39m \u001b[34mrecipes\u001b[39m::\u001b[32mfixed()\u001b[39m  masks \u001b[34mstringr\u001b[39m::fixed()\n",
      "\u001b[31m✖\u001b[39m \u001b[34mdplyr\u001b[39m::\u001b[32mlag()\u001b[39m      masks \u001b[34mstats\u001b[39m::lag()\n",
      "\u001b[31m✖\u001b[39m \u001b[34myardstick\u001b[39m::\u001b[32mspec()\u001b[39m masks \u001b[34mreadr\u001b[39m::spec()\n",
      "\u001b[31m✖\u001b[39m \u001b[34mrecipes\u001b[39m::\u001b[32mstep()\u001b[39m   masks \u001b[34mstats\u001b[39m::step()\n",
      "\n"
     ]
    }
   ],
   "source": [
    "library(tidyverse)\n",
    "library(repr)\n",
    "library(tidymodels)\n",
    "library(readxl)\n",
    "set.seed(9999)"
   ]
  },
  {
   "cell_type": "code",
   "execution_count": 2,
   "metadata": {},
   "outputs": [
    {
     "name": "stderr",
     "output_type": "stream",
     "text": [
      "New names:\n",
      "* `` -> ...1\n",
      "\n"
     ]
    },
    {
     "data": {
      "text/html": [
       "<table>\n",
       "<caption>A tibble: 6 × 9</caption>\n",
       "<thead>\n",
       "\t<tr><th scope=col>client_id</th><th scope=col>limit_bal</th><th scope=col>default_status</th><th scope=col>sep_debt_ratio</th><th scope=col>aug_debt_ratio</th><th scope=col>jul_debt_ratio</th><th scope=col>jun_debt_ratio</th><th scope=col>may_debt_ratio</th><th scope=col>apr_debt_ratio</th></tr>\n",
       "\t<tr><th scope=col>&lt;chr&gt;</th><th scope=col>&lt;dbl&gt;</th><th scope=col>&lt;fct&gt;</th><th scope=col>&lt;dbl&gt;</th><th scope=col>&lt;dbl&gt;</th><th scope=col>&lt;dbl&gt;</th><th scope=col>&lt;dbl&gt;</th><th scope=col>&lt;dbl&gt;</th><th scope=col>&lt;dbl&gt;</th></tr>\n",
       "</thead>\n",
       "<tbody>\n",
       "\t<tr><td>1</td><td> 20000</td><td>yes</td><td>0.1956500</td><td>0.1551000</td><td>0.0344500</td><td>0.00000000</td><td>0.00000000</td><td>0.0000000</td></tr>\n",
       "\t<tr><td>2</td><td>120000</td><td>yes</td><td>0.0223500</td><td>0.0143750</td><td>0.0223500</td><td>0.02726667</td><td>0.02879167</td><td>0.0271750</td></tr>\n",
       "\t<tr><td>3</td><td> 90000</td><td>no </td><td>0.3248778</td><td>0.1558556</td><td>0.1506556</td><td>0.15923333</td><td>0.16608889</td><td>0.1727667</td></tr>\n",
       "\t<tr><td>4</td><td> 50000</td><td>no </td><td>0.9398000</td><td>0.9646600</td><td>0.9858200</td><td>0.56628000</td><td>0.57918000</td><td>0.5909400</td></tr>\n",
       "\t<tr><td>5</td><td> 50000</td><td>no </td><td>0.1723400</td><td>0.1134000</td><td>0.7167000</td><td>0.41880000</td><td>0.38292000</td><td>0.3826200</td></tr>\n",
       "\t<tr><td>6</td><td> 50000</td><td>no </td><td>1.2880000</td><td>1.1413800</td><td>1.1521600</td><td>0.38788000</td><td>0.39238000</td><td>0.4004800</td></tr>\n",
       "</tbody>\n",
       "</table>\n"
      ],
      "text/latex": [
       "A tibble: 6 × 9\n",
       "\\begin{tabular}{lllllllll}\n",
       " client\\_id & limit\\_bal & default\\_status & sep\\_debt\\_ratio & aug\\_debt\\_ratio & jul\\_debt\\_ratio & jun\\_debt\\_ratio & may\\_debt\\_ratio & apr\\_debt\\_ratio\\\\\n",
       " <chr> & <dbl> & <fct> & <dbl> & <dbl> & <dbl> & <dbl> & <dbl> & <dbl>\\\\\n",
       "\\hline\n",
       "\t 1 &  20000 & yes & 0.1956500 & 0.1551000 & 0.0344500 & 0.00000000 & 0.00000000 & 0.0000000\\\\\n",
       "\t 2 & 120000 & yes & 0.0223500 & 0.0143750 & 0.0223500 & 0.02726667 & 0.02879167 & 0.0271750\\\\\n",
       "\t 3 &  90000 & no  & 0.3248778 & 0.1558556 & 0.1506556 & 0.15923333 & 0.16608889 & 0.1727667\\\\\n",
       "\t 4 &  50000 & no  & 0.9398000 & 0.9646600 & 0.9858200 & 0.56628000 & 0.57918000 & 0.5909400\\\\\n",
       "\t 5 &  50000 & no  & 0.1723400 & 0.1134000 & 0.7167000 & 0.41880000 & 0.38292000 & 0.3826200\\\\\n",
       "\t 6 &  50000 & no  & 1.2880000 & 1.1413800 & 1.1521600 & 0.38788000 & 0.39238000 & 0.4004800\\\\\n",
       "\\end{tabular}\n"
      ],
      "text/markdown": [
       "\n",
       "A tibble: 6 × 9\n",
       "\n",
       "| client_id &lt;chr&gt; | limit_bal &lt;dbl&gt; | default_status &lt;fct&gt; | sep_debt_ratio &lt;dbl&gt; | aug_debt_ratio &lt;dbl&gt; | jul_debt_ratio &lt;dbl&gt; | jun_debt_ratio &lt;dbl&gt; | may_debt_ratio &lt;dbl&gt; | apr_debt_ratio &lt;dbl&gt; |\n",
       "|---|---|---|---|---|---|---|---|---|\n",
       "| 1 |  20000 | yes | 0.1956500 | 0.1551000 | 0.0344500 | 0.00000000 | 0.00000000 | 0.0000000 |\n",
       "| 2 | 120000 | yes | 0.0223500 | 0.0143750 | 0.0223500 | 0.02726667 | 0.02879167 | 0.0271750 |\n",
       "| 3 |  90000 | no  | 0.3248778 | 0.1558556 | 0.1506556 | 0.15923333 | 0.16608889 | 0.1727667 |\n",
       "| 4 |  50000 | no  | 0.9398000 | 0.9646600 | 0.9858200 | 0.56628000 | 0.57918000 | 0.5909400 |\n",
       "| 5 |  50000 | no  | 0.1723400 | 0.1134000 | 0.7167000 | 0.41880000 | 0.38292000 | 0.3826200 |\n",
       "| 6 |  50000 | no  | 1.2880000 | 1.1413800 | 1.1521600 | 0.38788000 | 0.39238000 | 0.4004800 |\n",
       "\n"
      ],
      "text/plain": [
       "  client_id limit_bal default_status sep_debt_ratio aug_debt_ratio\n",
       "1 1          20000    yes            0.1956500      0.1551000     \n",
       "2 2         120000    yes            0.0223500      0.0143750     \n",
       "3 3          90000    no             0.3248778      0.1558556     \n",
       "4 4          50000    no             0.9398000      0.9646600     \n",
       "5 5          50000    no             0.1723400      0.1134000     \n",
       "6 6          50000    no             1.2880000      1.1413800     \n",
       "  jul_debt_ratio jun_debt_ratio may_debt_ratio apr_debt_ratio\n",
       "1 0.0344500      0.00000000     0.00000000     0.0000000     \n",
       "2 0.0223500      0.02726667     0.02879167     0.0271750     \n",
       "3 0.1506556      0.15923333     0.16608889     0.1727667     \n",
       "4 0.9858200      0.56628000     0.57918000     0.5909400     \n",
       "5 0.7167000      0.41880000     0.38292000     0.3826200     \n",
       "6 1.1521600      0.38788000     0.39238000     0.4004800     "
      ]
     },
     "metadata": {},
     "output_type": "display_data"
    }
   ],
   "source": [
    "df_default <- read_excel('data/default-cc-data.xls')  %>%\n",
    "    select(-c(X2:X11))%>%\n",
    "    rename(client_id = \"...1\", \n",
    "           limit_bal = X1,\n",
    "           sep_bill = X12 , \n",
    "           aug_bill= X13 ,\n",
    "           july_bill= X14,\n",
    "           june_bill= X15,\n",
    "           may_bill= X16, \n",
    "           april_bill=X17,\n",
    "           sep_paid= X18 ,\n",
    "           aug_paid= X19, \n",
    "           july_paid= X20, \n",
    "           june_paid= X21 ,\n",
    "           may_paid= X22 ,\n",
    "           april_paid= X23,\n",
    "           default_status = Y)%>%\n",
    "    slice(2:30001) %>%\n",
    "    mutate_if(is.character, as.numeric) %>%\n",
    "    mutate(client_id = as.character(client_id),\n",
    "          default_status = case_when(default_status ==\"1\"~\"yes\",\n",
    "                                     default_status== \"0\"~\"no\"),\n",
    "          default_status = as.factor(default_status),\n",
    "           apr_debt_ratio = april_bill/limit_bal,\n",
    "           may_debt_ratio = may_bill/limit_bal,\n",
    "           jun_debt_ratio = june_bill/limit_bal,\n",
    "           jul_debt_ratio = july_bill/limit_bal,\n",
    "           aug_debt_ratio = aug_bill/limit_bal,\n",
    "           sep_debt_ratio = sep_bill/limit_bal) %>%\n",
    "    select(client_id, limit_bal, default_status, sep_debt_ratio : apr_debt_ratio)\n",
    "\n",
    "head(df_default)"
   ]
  },
  {
   "cell_type": "code",
   "execution_count": 4,
   "metadata": {},
   "outputs": [
    {
     "name": "stderr",
     "output_type": "stream",
     "text": [
      "`summarise()` ungrouping output (override with `.groups` argument)\n",
      "\n"
     ]
    },
    {
     "data": {
      "text/html": [
       "<table>\n",
       "<caption>A tibble: 12 × 3</caption>\n",
       "<thead>\n",
       "\t<tr><th scope=col>default_status</th><th scope=col>Month</th><th scope=col>avg_debt_ratio</th></tr>\n",
       "\t<tr><th scope=col>&lt;fct&gt;</th><th scope=col>&lt;chr&gt;</th><th scope=col>&lt;dbl&gt;</th></tr>\n",
       "</thead>\n",
       "<tbody>\n",
       "\t<tr><td>no </td><td>apr_avg</td><td>0.2958815</td></tr>\n",
       "\t<tr><td>no </td><td>may_avg</td><td>0.3108478</td></tr>\n",
       "\t<tr><td>no </td><td>jun_avg</td><td>0.3367254</td></tr>\n",
       "\t<tr><td>no </td><td>jul_avg</td><td>0.3702399</td></tr>\n",
       "\t<tr><td>no </td><td>aug_avg</td><td>0.3897752</td></tr>\n",
       "\t<tr><td>no </td><td>sep_avg</td><td>0.4048764</td></tr>\n",
       "\t<tr><td>yes</td><td>apr_avg</td><td>0.3985191</td></tr>\n",
       "\t<tr><td>yes</td><td>may_avg</td><td>0.4114814</td></tr>\n",
       "\t<tr><td>yes</td><td>jun_avg</td><td>0.4396978</td></tr>\n",
       "\t<tr><td>yes</td><td>jul_avg</td><td>0.4694822</td></tr>\n",
       "\t<tr><td>yes</td><td>aug_avg</td><td>0.4863074</td></tr>\n",
       "\t<tr><td>yes</td><td>sep_avg</td><td>0.4902972</td></tr>\n",
       "</tbody>\n",
       "</table>\n"
      ],
      "text/latex": [
       "A tibble: 12 × 3\n",
       "\\begin{tabular}{lll}\n",
       " default\\_status & Month & avg\\_debt\\_ratio\\\\\n",
       " <fct> & <chr> & <dbl>\\\\\n",
       "\\hline\n",
       "\t no  & apr\\_avg & 0.2958815\\\\\n",
       "\t no  & may\\_avg & 0.3108478\\\\\n",
       "\t no  & jun\\_avg & 0.3367254\\\\\n",
       "\t no  & jul\\_avg & 0.3702399\\\\\n",
       "\t no  & aug\\_avg & 0.3897752\\\\\n",
       "\t no  & sep\\_avg & 0.4048764\\\\\n",
       "\t yes & apr\\_avg & 0.3985191\\\\\n",
       "\t yes & may\\_avg & 0.4114814\\\\\n",
       "\t yes & jun\\_avg & 0.4396978\\\\\n",
       "\t yes & jul\\_avg & 0.4694822\\\\\n",
       "\t yes & aug\\_avg & 0.4863074\\\\\n",
       "\t yes & sep\\_avg & 0.4902972\\\\\n",
       "\\end{tabular}\n"
      ],
      "text/markdown": [
       "\n",
       "A tibble: 12 × 3\n",
       "\n",
       "| default_status &lt;fct&gt; | Month &lt;chr&gt; | avg_debt_ratio &lt;dbl&gt; |\n",
       "|---|---|---|\n",
       "| no  | apr_avg | 0.2958815 |\n",
       "| no  | may_avg | 0.3108478 |\n",
       "| no  | jun_avg | 0.3367254 |\n",
       "| no  | jul_avg | 0.3702399 |\n",
       "| no  | aug_avg | 0.3897752 |\n",
       "| no  | sep_avg | 0.4048764 |\n",
       "| yes | apr_avg | 0.3985191 |\n",
       "| yes | may_avg | 0.4114814 |\n",
       "| yes | jun_avg | 0.4396978 |\n",
       "| yes | jul_avg | 0.4694822 |\n",
       "| yes | aug_avg | 0.4863074 |\n",
       "| yes | sep_avg | 0.4902972 |\n",
       "\n"
      ],
      "text/plain": [
       "   default_status Month   avg_debt_ratio\n",
       "1  no             apr_avg 0.2958815     \n",
       "2  no             may_avg 0.3108478     \n",
       "3  no             jun_avg 0.3367254     \n",
       "4  no             jul_avg 0.3702399     \n",
       "5  no             aug_avg 0.3897752     \n",
       "6  no             sep_avg 0.4048764     \n",
       "7  yes            apr_avg 0.3985191     \n",
       "8  yes            may_avg 0.4114814     \n",
       "9  yes            jun_avg 0.4396978     \n",
       "10 yes            jul_avg 0.4694822     \n",
       "11 yes            aug_avg 0.4863074     \n",
       "12 yes            sep_avg 0.4902972     "
      ]
     },
     "metadata": {},
     "output_type": "display_data"
    }
   ],
   "source": [
    "ratio_averages = df_default %>%\n",
    "    group_by(default_status) %>%\n",
    "    summarize(apr_avg = mean(apr_debt_ratio),\n",
    "              may_avg = mean(may_debt_ratio),\n",
    "              may_avg = mean(may_debt_ratio),\n",
    "              jun_avg = mean(jun_debt_ratio),\n",
    "              jul_avg = mean(jul_debt_ratio),\n",
    "              aug_avg = mean(aug_debt_ratio),\n",
    "              sep_avg = mean(sep_debt_ratio)) %>%\n",
    "    pivot_longer(cols = apr_avg:sep_avg,\n",
    "                 names_to = \"Month\",\n",
    "                 values_to = \"avg_debt_ratio\")\n",
    "ratio_averages"
   ]
  },
  {
   "cell_type": "code",
   "execution_count": 5,
   "metadata": {},
   "outputs": [
    {
     "data": {
      "image/png": "[encoded data removed]",
      "text/plain": [
       "plot without title"
      ]
     },
     "metadata": {
      "image/png": {
       "height": 420,
       "width": 420
      }
     },
     "output_type": "display_data"
    }
   ],
   "source": [
    "debt_ratio_plot = ratio_averages %>%\n",
    "    ggplot(aes(x=Month, y=avg_debt_ratio, color=default_status)) +\n",
    "    geom_point()\n",
    "debt_ratio_plot"
   ]
  },
  {
   "cell_type": "code",
   "execution_count": 6,
   "metadata": {},
   "outputs": [
    {
     "data": {
      "image/png": "[encoded data removed]",
      "text/plain": [
       "Plot with title “Histogram of defaulters$limit_bal”"
      ]
     },
     "metadata": {
      "image/png": {
       "height": 420,
       "width": 420
      }
     },
     "output_type": "display_data"
    },
    {
     "data": {
      "image/png": "[encoded data removed]",
      "text/plain": [
       "Plot with title “Histogram of onTimers$limit_bal”"
      ]
     },
     "metadata": {
      "image/png": {
       "height": 420,
       "width": 420
      }
     },
     "output_type": "display_data"
    }
   ],
   "source": [
    "defaulters = df_default %>%\n",
    "    filter(default_status == \"yes\")\n",
    "hist(defaulters$limit_bal)\n",
    "\n",
    "onTimers = df_default %>%\n",
    "    filter(default_status == \"no\")\n",
    "hist(onTimers$limit_bal)"
   ]
  },
  {
   "cell_type": "code",
   "execution_count": 7,
   "metadata": {},
   "outputs": [],
   "source": [
    "debt_split = initial_split(df_default, prop = 0.75, strata = default_status)\n",
    "debt_train = training(debt_split)\n",
    "debt_test = testing(debt_split)\n",
    "\n",
    "debt_recipe = recipe(default_status ~ sep_debt_ratio + aug_debt_ratio \n",
    "                     + jul_debt_ratio + may_debt_ratio + apr_debt_ratio, data = debt_train)\n",
    "#             %>%\n",
    "#               step_upsample(default_status, over_ratio = 1, skip = FALSE) %>%\n",
    "#               prep()\n",
    "# I tried applying an upsample to the data to see if I could improve accuracy, but it actually lowered it. \n",
    "\n",
    "debt_spec = nearest_neighbor(weight_func = \"rectangular\", neighbors = tune()) %>%\n",
    "    set_engine(\"kknn\") %>%\n",
    "    set_mode(\"classification\")\n",
    "\n",
    "# TODO: Commenting out so it doesn't take forever to run every time I reopen Jupyter. Make sure to uncomment for final version\n",
    "# debt_vfold = vfold_cv(debt_train, v=5, strata = default_status)\n",
    "\n",
    "# gridvals = tibble(neighbors = seq(1, 200, by=10))\n",
    "\n",
    "# debt_results = workflow() %>%\n",
    "#     add_recipe(debt_recipe) %>%\n",
    "#     add_model(debt_spec) %>%\n",
    "#     tune_grid(resamples = debt_vfold, grid = gridvals)%>%\n",
    "#     collect_metrics()\n",
    "# debt_results"
   ]
  },
  {
   "cell_type": "code",
   "execution_count": 8,
   "metadata": {},
   "outputs": [
    {
     "ename": "ERROR",
     "evalue": "Error in eval(lhs, parent, parent): object 'debt_results' not found\n",
     "output_type": "error",
     "traceback": [
      "Error in eval(lhs, parent, parent): object 'debt_results' not found\nTraceback:\n",
      "1. debt_results %>% filter(.metric == \"accuracy\") %>% ggplot(aes(x = neighbors, \n .     y = mean))",
      "2. eval(lhs, parent, parent)",
      "3. eval(lhs, parent, parent)"
     ]
    }
   ],
   "source": [
    "vfold_plot = debt_results %>%\n",
    "    filter(.metric == \"accuracy\") %>%\n",
    "    ggplot(aes(x=neighbors, y=mean)) +\n",
    "    geom_line()\n",
    "vfold_plot\n"
   ]
  },
  {
   "cell_type": "code",
   "execution_count": null,
   "metadata": {},
   "outputs": [],
   "source": [
    "final_spec = nearest_neighbor(weight_func = \"rectangular\", neighbors = 100) %>%\n",
    "    set_engine(\"kknn\") %>%\n",
    "    set_mode(\"classification\")\n",
    "\n",
    "final_fit = workflow() %>%\n",
    "    add_recipe(debt_recipe) %>%\n",
    "    add_model(final_spec) %>%\n",
    "    fit(data = debt_train)\n",
    "final_fit\n",
    "\n",
    "debt_test_predictions = predict(final_fit, debt_test) %>%\n",
    "    bind_cols(debt_test)\n",
    "debt_test_predictions"
   ]
  },
  {
   "cell_type": "code",
   "execution_count": null,
   "metadata": {},
   "outputs": [],
   "source": [
    "accuracy = debt_test_predictions %>%\n",
    "    metrics(truth = default_status, estimate = .pred_class) \n",
    "\n",
    "confidence = debt_test_predictions %>%\n",
    "    conf_mat(truth = default_status, estimate = .pred_class)\n",
    "\n",
    "accuracy\n",
    "confidence"
   ]
  },
  {
   "cell_type": "code",
   "execution_count": null,
   "metadata": {},
   "outputs": [],
   "source": [
    "test\n"
   ]
  }
 ],
 "metadata": {
  "kernelspec": {
   "display_name": "R",
   "language": "R",
   "name": "ir"
  },
  "language_info": {
   "codemirror_mode": "r",
   "file_extension": ".r",
   "mimetype": "text/x-r-source",
   "name": "R",
   "pygments_lexer": "r",
   "version": "4.0.0"
  }
 },
 "nbformat": 4,
 "nbformat_minor": 4
}
