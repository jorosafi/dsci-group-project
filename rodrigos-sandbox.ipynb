{
 "cells": [
  {
   "cell_type": "code",
   "execution_count": 18,
   "metadata": {},
   "outputs": [
    {
     "name": "stderr",
     "output_type": "stream",
     "text": [
      "also installing the dependencies ‘fastmatch’, ‘ParamHelpers’, ‘BBmisc’, ‘checkmate’, ‘parallelMap’, ‘XML’, ‘mlr’, ‘doParallel’, ‘FNN’, ‘recipes’, ‘generics’, ‘RANN’, ‘ROSE’, ‘unbalanced’\n",
      "\n",
      "\n",
      "Updating HTML index of packages in '.Library'\n",
      "\n",
      "Making 'packages.html' ...\n",
      " done\n",
      "\n"
     ]
    }
   ],
   "source": [
    "install.packages(\"themis\")"
   ]
  },
  {
   "cell_type": "code",
   "execution_count": null,
   "metadata": {},
   "outputs": [],
   "source": [
    "#Loading needed libraries\n",
    "library(tidyverse)\n",
    "library(repr)\n",
    "library(tidymodels)\n",
    "library(readxl)\n",
    "library(\"themis\")\n",
    "set.seed(9999)"
   ]
  },
  {
   "cell_type": "code",
   "execution_count": 28,
   "metadata": {},
   "outputs": [
    {
     "name": "stderr",
     "output_type": "stream",
     "text": [
      "New names:\n",
      "* `` -> ...1\n",
      "\n"
     ]
    },
    {
     "data": {
      "text/html": [
       "<table>\n",
       "<caption>A tibble: 6 × 25</caption>\n",
       "<thead>\n",
       "\t<tr><th scope=col>...1</th><th scope=col>X1</th><th scope=col>X2</th><th scope=col>X3</th><th scope=col>X4</th><th scope=col>X5</th><th scope=col>X6</th><th scope=col>X7</th><th scope=col>X8</th><th scope=col>X9</th><th scope=col>⋯</th><th scope=col>X15</th><th scope=col>X16</th><th scope=col>X17</th><th scope=col>X18</th><th scope=col>X19</th><th scope=col>X20</th><th scope=col>X21</th><th scope=col>X22</th><th scope=col>X23</th><th scope=col>Y</th></tr>\n",
       "\t<tr><th scope=col>&lt;chr&gt;</th><th scope=col>&lt;chr&gt;</th><th scope=col>&lt;chr&gt;</th><th scope=col>&lt;chr&gt;</th><th scope=col>&lt;chr&gt;</th><th scope=col>&lt;chr&gt;</th><th scope=col>&lt;chr&gt;</th><th scope=col>&lt;chr&gt;</th><th scope=col>&lt;chr&gt;</th><th scope=col>&lt;chr&gt;</th><th scope=col>⋯</th><th scope=col>&lt;chr&gt;</th><th scope=col>&lt;chr&gt;</th><th scope=col>&lt;chr&gt;</th><th scope=col>&lt;chr&gt;</th><th scope=col>&lt;chr&gt;</th><th scope=col>&lt;chr&gt;</th><th scope=col>&lt;chr&gt;</th><th scope=col>&lt;chr&gt;</th><th scope=col>&lt;chr&gt;</th><th scope=col>&lt;chr&gt;</th></tr>\n",
       "</thead>\n",
       "<tbody>\n",
       "\t<tr><td>ID</td><td>LIMIT_BAL</td><td>SEX</td><td>EDUCATION</td><td>MARRIAGE</td><td>AGE</td><td>PAY_0</td><td>PAY_2</td><td>PAY_3</td><td>PAY_4</td><td>⋯</td><td>BILL_AMT4</td><td>BILL_AMT5</td><td>BILL_AMT6</td><td>PAY_AMT1</td><td>PAY_AMT2</td><td>PAY_AMT3</td><td>PAY_AMT4</td><td>PAY_AMT5</td><td>PAY_AMT6</td><td>default payment next month</td></tr>\n",
       "\t<tr><td>1 </td><td>20000    </td><td>2  </td><td>2        </td><td>1       </td><td>24 </td><td>2    </td><td>2    </td><td>-1   </td><td>-1   </td><td>⋯</td><td>0        </td><td>0        </td><td>0        </td><td>0       </td><td>689     </td><td>0       </td><td>0       </td><td>0       </td><td>0       </td><td>1                         </td></tr>\n",
       "\t<tr><td>2 </td><td>120000   </td><td>2  </td><td>2        </td><td>2       </td><td>26 </td><td>-1   </td><td>2    </td><td>0    </td><td>0    </td><td>⋯</td><td>3272     </td><td>3455     </td><td>3261     </td><td>0       </td><td>1000    </td><td>1000    </td><td>1000    </td><td>0       </td><td>2000    </td><td>1                         </td></tr>\n",
       "\t<tr><td>3 </td><td>90000    </td><td>2  </td><td>2        </td><td>2       </td><td>34 </td><td>0    </td><td>0    </td><td>0    </td><td>0    </td><td>⋯</td><td>14331    </td><td>14948    </td><td>15549    </td><td>1518    </td><td>1500    </td><td>1000    </td><td>1000    </td><td>1000    </td><td>5000    </td><td>0                         </td></tr>\n",
       "\t<tr><td>4 </td><td>50000    </td><td>2  </td><td>2        </td><td>1       </td><td>37 </td><td>0    </td><td>0    </td><td>0    </td><td>0    </td><td>⋯</td><td>28314    </td><td>28959    </td><td>29547    </td><td>2000    </td><td>2019    </td><td>1200    </td><td>1100    </td><td>1069    </td><td>1000    </td><td>0                         </td></tr>\n",
       "\t<tr><td>5 </td><td>50000    </td><td>1  </td><td>2        </td><td>1       </td><td>57 </td><td>-1   </td><td>0    </td><td>-1   </td><td>0    </td><td>⋯</td><td>20940    </td><td>19146    </td><td>19131    </td><td>2000    </td><td>36681   </td><td>10000   </td><td>9000    </td><td>689     </td><td>679     </td><td>0                         </td></tr>\n",
       "</tbody>\n",
       "</table>\n"
      ],
      "text/latex": [
       "A tibble: 6 × 25\n",
       "\\begin{tabular}{lllllllllllllllllllll}\n",
       " ...1 & X1 & X2 & X3 & X4 & X5 & X6 & X7 & X8 & X9 & ⋯ & X15 & X16 & X17 & X18 & X19 & X20 & X21 & X22 & X23 & Y\\\\\n",
       " <chr> & <chr> & <chr> & <chr> & <chr> & <chr> & <chr> & <chr> & <chr> & <chr> & ⋯ & <chr> & <chr> & <chr> & <chr> & <chr> & <chr> & <chr> & <chr> & <chr> & <chr>\\\\\n",
       "\\hline\n",
       "\t ID & LIMIT\\_BAL & SEX & EDUCATION & MARRIAGE & AGE & PAY\\_0 & PAY\\_2 & PAY\\_3 & PAY\\_4 & ⋯ & BILL\\_AMT4 & BILL\\_AMT5 & BILL\\_AMT6 & PAY\\_AMT1 & PAY\\_AMT2 & PAY\\_AMT3 & PAY\\_AMT4 & PAY\\_AMT5 & PAY\\_AMT6 & default payment next month\\\\\n",
       "\t 1  & 20000     & 2   & 2         & 1        & 24  & 2     & 2     & -1    & -1    & ⋯ & 0         & 0         & 0         & 0        & 689      & 0        & 0        & 0        & 0        & 1                         \\\\\n",
       "\t 2  & 120000    & 2   & 2         & 2        & 26  & -1    & 2     & 0     & 0     & ⋯ & 3272      & 3455      & 3261      & 0        & 1000     & 1000     & 1000     & 0        & 2000     & 1                         \\\\\n",
       "\t 3  & 90000     & 2   & 2         & 2        & 34  & 0     & 0     & 0     & 0     & ⋯ & 14331     & 14948     & 15549     & 1518     & 1500     & 1000     & 1000     & 1000     & 5000     & 0                         \\\\\n",
       "\t 4  & 50000     & 2   & 2         & 1        & 37  & 0     & 0     & 0     & 0     & ⋯ & 28314     & 28959     & 29547     & 2000     & 2019     & 1200     & 1100     & 1069     & 1000     & 0                         \\\\\n",
       "\t 5  & 50000     & 1   & 2         & 1        & 57  & -1    & 0     & -1    & 0     & ⋯ & 20940     & 19146     & 19131     & 2000     & 36681    & 10000    & 9000     & 689      & 679      & 0                         \\\\\n",
       "\\end{tabular}\n"
      ],
      "text/markdown": [
       "\n",
       "A tibble: 6 × 25\n",
       "\n",
       "| ...1 &lt;chr&gt; | X1 &lt;chr&gt; | X2 &lt;chr&gt; | X3 &lt;chr&gt; | X4 &lt;chr&gt; | X5 &lt;chr&gt; | X6 &lt;chr&gt; | X7 &lt;chr&gt; | X8 &lt;chr&gt; | X9 &lt;chr&gt; | ⋯ ⋯ | X15 &lt;chr&gt; | X16 &lt;chr&gt; | X17 &lt;chr&gt; | X18 &lt;chr&gt; | X19 &lt;chr&gt; | X20 &lt;chr&gt; | X21 &lt;chr&gt; | X22 &lt;chr&gt; | X23 &lt;chr&gt; | Y &lt;chr&gt; |\n",
       "|---|---|---|---|---|---|---|---|---|---|---|---|---|---|---|---|---|---|---|---|---|\n",
       "| ID | LIMIT_BAL | SEX | EDUCATION | MARRIAGE | AGE | PAY_0 | PAY_2 | PAY_3 | PAY_4 | ⋯ | BILL_AMT4 | BILL_AMT5 | BILL_AMT6 | PAY_AMT1 | PAY_AMT2 | PAY_AMT3 | PAY_AMT4 | PAY_AMT5 | PAY_AMT6 | default payment next month |\n",
       "| 1  | 20000     | 2   | 2         | 1        | 24  | 2     | 2     | -1    | -1    | ⋯ | 0         | 0         | 0         | 0        | 689      | 0        | 0        | 0        | 0        | 1                          |\n",
       "| 2  | 120000    | 2   | 2         | 2        | 26  | -1    | 2     | 0     | 0     | ⋯ | 3272      | 3455      | 3261      | 0        | 1000     | 1000     | 1000     | 0        | 2000     | 1                          |\n",
       "| 3  | 90000     | 2   | 2         | 2        | 34  | 0     | 0     | 0     | 0     | ⋯ | 14331     | 14948     | 15549     | 1518     | 1500     | 1000     | 1000     | 1000     | 5000     | 0                          |\n",
       "| 4  | 50000     | 2   | 2         | 1        | 37  | 0     | 0     | 0     | 0     | ⋯ | 28314     | 28959     | 29547     | 2000     | 2019     | 1200     | 1100     | 1069     | 1000     | 0                          |\n",
       "| 5  | 50000     | 1   | 2         | 1        | 57  | -1    | 0     | -1    | 0     | ⋯ | 20940     | 19146     | 19131     | 2000     | 36681    | 10000    | 9000     | 689      | 679      | 0                          |\n",
       "\n"
      ],
      "text/plain": [
       "  ...1 X1        X2  X3        X4       X5  X6    X7    X8    X9    ⋯ X15      \n",
       "1 ID   LIMIT_BAL SEX EDUCATION MARRIAGE AGE PAY_0 PAY_2 PAY_3 PAY_4 ⋯ BILL_AMT4\n",
       "2 1    20000     2   2         1        24  2     2     -1    -1    ⋯ 0        \n",
       "3 2    120000    2   2         2        26  -1    2     0     0     ⋯ 3272     \n",
       "4 3    90000     2   2         2        34  0     0     0     0     ⋯ 14331    \n",
       "5 4    50000     2   2         1        37  0     0     0     0     ⋯ 28314    \n",
       "6 5    50000     1   2         1        57  -1    0     -1    0     ⋯ 20940    \n",
       "  X16       X17       X18      X19      X20      X21      X22      X23     \n",
       "1 BILL_AMT5 BILL_AMT6 PAY_AMT1 PAY_AMT2 PAY_AMT3 PAY_AMT4 PAY_AMT5 PAY_AMT6\n",
       "2 0         0         0        689      0        0        0        0       \n",
       "3 3455      3261      0        1000     1000     1000     0        2000    \n",
       "4 14948     15549     1518     1500     1000     1000     1000     5000    \n",
       "5 28959     29547     2000     2019     1200     1100     1069     1000    \n",
       "6 19146     19131     2000     36681    10000    9000     689      679     \n",
       "  Y                         \n",
       "1 default payment next month\n",
       "2 1                         \n",
       "3 1                         \n",
       "4 0                         \n",
       "5 0                         \n",
       "6 0                         "
      ]
     },
     "metadata": {},
     "output_type": "display_data"
    }
   ],
   "source": [
    "#Load dataset into Jupyter\n",
    "ccData <- read_excel('data/default-cc-data.xls')  \n",
    "head(ccData)"
   ]
  },
  {
   "cell_type": "code",
   "execution_count": 31,
   "metadata": {},
   "outputs": [
    {
     "data": {
      "text/html": [
       "<table>\n",
       "<caption>A tibble: 6 × 9</caption>\n",
       "<thead>\n",
       "\t<tr><th scope=col>client_id</th><th scope=col>limit_bal</th><th scope=col>default_status</th><th scope=col>sep_debt_ratio</th><th scope=col>aug_debt_ratio</th><th scope=col>jul_debt_ratio</th><th scope=col>jun_debt_ratio</th><th scope=col>may_debt_ratio</th><th scope=col>apr_debt_ratio</th></tr>\n",
       "\t<tr><th scope=col>&lt;chr&gt;</th><th scope=col>&lt;dbl&gt;</th><th scope=col>&lt;fct&gt;</th><th scope=col>&lt;dbl&gt;</th><th scope=col>&lt;dbl&gt;</th><th scope=col>&lt;dbl&gt;</th><th scope=col>&lt;dbl&gt;</th><th scope=col>&lt;dbl&gt;</th><th scope=col>&lt;dbl&gt;</th></tr>\n",
       "</thead>\n",
       "<tbody>\n",
       "\t<tr><td>1</td><td> 20000</td><td>yes</td><td>0.1956500</td><td>0.1551000</td><td>0.0344500</td><td>0.00000000</td><td>0.00000000</td><td>0.0000000</td></tr>\n",
       "\t<tr><td>2</td><td>120000</td><td>yes</td><td>0.0223500</td><td>0.0143750</td><td>0.0223500</td><td>0.02726667</td><td>0.02879167</td><td>0.0271750</td></tr>\n",
       "\t<tr><td>3</td><td> 90000</td><td>no </td><td>0.3248778</td><td>0.1558556</td><td>0.1506556</td><td>0.15923333</td><td>0.16608889</td><td>0.1727667</td></tr>\n",
       "\t<tr><td>4</td><td> 50000</td><td>no </td><td>0.9398000</td><td>0.9646600</td><td>0.9858200</td><td>0.56628000</td><td>0.57918000</td><td>0.5909400</td></tr>\n",
       "\t<tr><td>5</td><td> 50000</td><td>no </td><td>0.1723400</td><td>0.1134000</td><td>0.7167000</td><td>0.41880000</td><td>0.38292000</td><td>0.3826200</td></tr>\n",
       "\t<tr><td>6</td><td> 50000</td><td>no </td><td>1.2880000</td><td>1.1413800</td><td>1.1521600</td><td>0.38788000</td><td>0.39238000</td><td>0.4004800</td></tr>\n",
       "</tbody>\n",
       "</table>\n"
      ],
      "text/latex": [
       "A tibble: 6 × 9\n",
       "\\begin{tabular}{lllllllll}\n",
       " client\\_id & limit\\_bal & default\\_status & sep\\_debt\\_ratio & aug\\_debt\\_ratio & jul\\_debt\\_ratio & jun\\_debt\\_ratio & may\\_debt\\_ratio & apr\\_debt\\_ratio\\\\\n",
       " <chr> & <dbl> & <fct> & <dbl> & <dbl> & <dbl> & <dbl> & <dbl> & <dbl>\\\\\n",
       "\\hline\n",
       "\t 1 &  20000 & yes & 0.1956500 & 0.1551000 & 0.0344500 & 0.00000000 & 0.00000000 & 0.0000000\\\\\n",
       "\t 2 & 120000 & yes & 0.0223500 & 0.0143750 & 0.0223500 & 0.02726667 & 0.02879167 & 0.0271750\\\\\n",
       "\t 3 &  90000 & no  & 0.3248778 & 0.1558556 & 0.1506556 & 0.15923333 & 0.16608889 & 0.1727667\\\\\n",
       "\t 4 &  50000 & no  & 0.9398000 & 0.9646600 & 0.9858200 & 0.56628000 & 0.57918000 & 0.5909400\\\\\n",
       "\t 5 &  50000 & no  & 0.1723400 & 0.1134000 & 0.7167000 & 0.41880000 & 0.38292000 & 0.3826200\\\\\n",
       "\t 6 &  50000 & no  & 1.2880000 & 1.1413800 & 1.1521600 & 0.38788000 & 0.39238000 & 0.4004800\\\\\n",
       "\\end{tabular}\n"
      ],
      "text/markdown": [
       "\n",
       "A tibble: 6 × 9\n",
       "\n",
       "| client_id &lt;chr&gt; | limit_bal &lt;dbl&gt; | default_status &lt;fct&gt; | sep_debt_ratio &lt;dbl&gt; | aug_debt_ratio &lt;dbl&gt; | jul_debt_ratio &lt;dbl&gt; | jun_debt_ratio &lt;dbl&gt; | may_debt_ratio &lt;dbl&gt; | apr_debt_ratio &lt;dbl&gt; |\n",
       "|---|---|---|---|---|---|---|---|---|\n",
       "| 1 |  20000 | yes | 0.1956500 | 0.1551000 | 0.0344500 | 0.00000000 | 0.00000000 | 0.0000000 |\n",
       "| 2 | 120000 | yes | 0.0223500 | 0.0143750 | 0.0223500 | 0.02726667 | 0.02879167 | 0.0271750 |\n",
       "| 3 |  90000 | no  | 0.3248778 | 0.1558556 | 0.1506556 | 0.15923333 | 0.16608889 | 0.1727667 |\n",
       "| 4 |  50000 | no  | 0.9398000 | 0.9646600 | 0.9858200 | 0.56628000 | 0.57918000 | 0.5909400 |\n",
       "| 5 |  50000 | no  | 0.1723400 | 0.1134000 | 0.7167000 | 0.41880000 | 0.38292000 | 0.3826200 |\n",
       "| 6 |  50000 | no  | 1.2880000 | 1.1413800 | 1.1521600 | 0.38788000 | 0.39238000 | 0.4004800 |\n",
       "\n"
      ],
      "text/plain": [
       "  client_id limit_bal default_status sep_debt_ratio aug_debt_ratio\n",
       "1 1          20000    yes            0.1956500      0.1551000     \n",
       "2 2         120000    yes            0.0223500      0.0143750     \n",
       "3 3          90000    no             0.3248778      0.1558556     \n",
       "4 4          50000    no             0.9398000      0.9646600     \n",
       "5 5          50000    no             0.1723400      0.1134000     \n",
       "6 6          50000    no             1.2880000      1.1413800     \n",
       "  jul_debt_ratio jun_debt_ratio may_debt_ratio apr_debt_ratio\n",
       "1 0.0344500      0.00000000     0.00000000     0.0000000     \n",
       "2 0.0223500      0.02726667     0.02879167     0.0271750     \n",
       "3 0.1506556      0.15923333     0.16608889     0.1727667     \n",
       "4 0.9858200      0.56628000     0.57918000     0.5909400     \n",
       "5 0.7167000      0.41880000     0.38292000     0.3826200     \n",
       "6 1.1521600      0.38788000     0.39238000     0.4004800     "
      ]
     },
     "metadata": {},
     "output_type": "display_data"
    }
   ],
   "source": [
    "#Tidy data by \n",
    "#  taking out columns on Education, marriage and payments, \n",
    "#  renaming the columns, \n",
    "#  slicing out top two rows, \n",
    "#  Changing data types from character to numeric for all columns except for default status\n",
    "#  Changing the values for default_status to yes/no to make it readable\n",
    "#  Creating new columns that have the ratio debt to balance limit for each month across all rows*\n",
    "#\n",
    "#\n",
    "#\n",
    "#Our hypothesis is that people with higher debt loads, that is the amount of debt they have relative to their balance limit, \n",
    "#  and whose debt load increases over time, are more likely to default. That is why we are creating new colums that have the\n",
    "#  debt to limit ratio and using these as our predictor. \n",
    "\n",
    "clean_ccData = ccData %>%\n",
    "    select(-c(X2:X11))%>% \n",
    "    rename(client_id = \"...1\", \n",
    "           limit_bal = X1,\n",
    "           sep_bill = X12 , \n",
    "           aug_bill= X13 ,\n",
    "           july_bill= X14,\n",
    "           june_bill= X15,\n",
    "           may_bill= X16, \n",
    "           april_bill=X17,\n",
    "           sep_paid= X18 ,\n",
    "           aug_paid= X19, \n",
    "           july_paid= X20, \n",
    "           june_paid= X21 ,\n",
    "           may_paid= X22 ,\n",
    "           april_paid= X23,\n",
    "           default_status = Y)%>%\n",
    "    slice(2:30001) %>%\n",
    "    mutate_if(is.character, as.numeric) %>%\n",
    "    mutate(client_id = as.character(client_id),\n",
    "           default_status = case_when(default_status ==\"1\"~\"yes\",\n",
    "                                     default_status== \"0\"~\"no\"),\n",
    "           default_status = as.factor(default_status),\n",
    "           apr_debt_ratio = april_bill/limit_bal,\n",
    "           may_debt_ratio = may_bill/limit_bal,\n",
    "           jun_debt_ratio = june_bill/limit_bal,\n",
    "           jul_debt_ratio = july_bill/limit_bal,\n",
    "           aug_debt_ratio = aug_bill/limit_bal,\n",
    "           sep_debt_ratio = sep_bill/limit_bal) %>%\n",
    "    select(client_id, limit_bal, default_status, sep_debt_ratio : apr_debt_ratio)\n",
    "\n",
    "head(clean_ccData)"
   ]
  },
  {
   "cell_type": "code",
   "execution_count": 32,
   "metadata": {},
   "outputs": [
    {
     "name": "stderr",
     "output_type": "stream",
     "text": [
      "`summarise()` ungrouping output (override with `.groups` argument)\n",
      "\n"
     ]
    },
    {
     "data": {
      "text/html": [
       "<table>\n",
       "<caption>A tibble: 12 × 3</caption>\n",
       "<thead>\n",
       "\t<tr><th scope=col>default_status</th><th scope=col>Month</th><th scope=col>avg_debt_ratio</th></tr>\n",
       "\t<tr><th scope=col>&lt;fct&gt;</th><th scope=col>&lt;chr&gt;</th><th scope=col>&lt;dbl&gt;</th></tr>\n",
       "</thead>\n",
       "<tbody>\n",
       "\t<tr><td>no </td><td>apr_avg </td><td>0.2958815</td></tr>\n",
       "\t<tr><td>no </td><td>bmay_avg</td><td>0.3108478</td></tr>\n",
       "\t<tr><td>no </td><td>cjun_avg</td><td>0.3367254</td></tr>\n",
       "\t<tr><td>no </td><td>djul_avg</td><td>0.3702399</td></tr>\n",
       "\t<tr><td>no </td><td>eaug_avg</td><td>0.3897752</td></tr>\n",
       "\t<tr><td>no </td><td>fsep_avg</td><td>0.4048764</td></tr>\n",
       "\t<tr><td>yes</td><td>apr_avg </td><td>0.3985191</td></tr>\n",
       "\t<tr><td>yes</td><td>bmay_avg</td><td>0.4114814</td></tr>\n",
       "\t<tr><td>yes</td><td>cjun_avg</td><td>0.4396978</td></tr>\n",
       "\t<tr><td>yes</td><td>djul_avg</td><td>0.4694822</td></tr>\n",
       "\t<tr><td>yes</td><td>eaug_avg</td><td>0.4863074</td></tr>\n",
       "\t<tr><td>yes</td><td>fsep_avg</td><td>0.4902972</td></tr>\n",
       "</tbody>\n",
       "</table>\n"
      ],
      "text/latex": [
       "A tibble: 12 × 3\n",
       "\\begin{tabular}{lll}\n",
       " default\\_status & Month & avg\\_debt\\_ratio\\\\\n",
       " <fct> & <chr> & <dbl>\\\\\n",
       "\\hline\n",
       "\t no  & apr\\_avg  & 0.2958815\\\\\n",
       "\t no  & bmay\\_avg & 0.3108478\\\\\n",
       "\t no  & cjun\\_avg & 0.3367254\\\\\n",
       "\t no  & djul\\_avg & 0.3702399\\\\\n",
       "\t no  & eaug\\_avg & 0.3897752\\\\\n",
       "\t no  & fsep\\_avg & 0.4048764\\\\\n",
       "\t yes & apr\\_avg  & 0.3985191\\\\\n",
       "\t yes & bmay\\_avg & 0.4114814\\\\\n",
       "\t yes & cjun\\_avg & 0.4396978\\\\\n",
       "\t yes & djul\\_avg & 0.4694822\\\\\n",
       "\t yes & eaug\\_avg & 0.4863074\\\\\n",
       "\t yes & fsep\\_avg & 0.4902972\\\\\n",
       "\\end{tabular}\n"
      ],
      "text/markdown": [
       "\n",
       "A tibble: 12 × 3\n",
       "\n",
       "| default_status &lt;fct&gt; | Month &lt;chr&gt; | avg_debt_ratio &lt;dbl&gt; |\n",
       "|---|---|---|\n",
       "| no  | apr_avg  | 0.2958815 |\n",
       "| no  | bmay_avg | 0.3108478 |\n",
       "| no  | cjun_avg | 0.3367254 |\n",
       "| no  | djul_avg | 0.3702399 |\n",
       "| no  | eaug_avg | 0.3897752 |\n",
       "| no  | fsep_avg | 0.4048764 |\n",
       "| yes | apr_avg  | 0.3985191 |\n",
       "| yes | bmay_avg | 0.4114814 |\n",
       "| yes | cjun_avg | 0.4396978 |\n",
       "| yes | djul_avg | 0.4694822 |\n",
       "| yes | eaug_avg | 0.4863074 |\n",
       "| yes | fsep_avg | 0.4902972 |\n",
       "\n"
      ],
      "text/plain": [
       "   default_status Month    avg_debt_ratio\n",
       "1  no             apr_avg  0.2958815     \n",
       "2  no             bmay_avg 0.3108478     \n",
       "3  no             cjun_avg 0.3367254     \n",
       "4  no             djul_avg 0.3702399     \n",
       "5  no             eaug_avg 0.3897752     \n",
       "6  no             fsep_avg 0.4048764     \n",
       "7  yes            apr_avg  0.3985191     \n",
       "8  yes            bmay_avg 0.4114814     \n",
       "9  yes            cjun_avg 0.4396978     \n",
       "10 yes            djul_avg 0.4694822     \n",
       "11 yes            eaug_avg 0.4863074     \n",
       "12 yes            fsep_avg 0.4902972     "
      ]
     },
     "metadata": {},
     "output_type": "display_data"
    }
   ],
   "source": [
    "#Since our theory is that people who have higher debt load and whose debt is increasing month to month, we need to see if there\n",
    "#  is an overall difference in debt load between those who defaulted and those who didn't. To test this, we are taking the \n",
    "#  average debt load for each group every available month and seeing if there is a difference in average debt load and how it\n",
    "#  changes over time. This table shows these averages. \n",
    "\n",
    "ratio_averages = clean_ccData %>%\n",
    "    group_by(default_status) %>%\n",
    "    summarize(apr_avg = mean(apr_debt_ratio),\n",
    "              bmay_avg = mean(may_debt_ratio),\n",
    "              cjun_avg = mean(jun_debt_ratio),\n",
    "              djul_avg = mean(jul_debt_ratio),\n",
    "              eaug_avg = mean(aug_debt_ratio),\n",
    "              fsep_avg = mean(sep_debt_ratio)) %>%\n",
    "    pivot_longer(cols = apr_avg:fsep_avg,\n",
    "                 names_to = \"Month\",\n",
    "                 values_to = \"avg_debt_ratio\")\n",
    "ratio_averages"
   ]
  },
  {
   "cell_type": "code",
   "execution_count": 33,
   "metadata": {},
   "outputs": [
    {
     "data": {
      "image/png": "[encoded data removed]",
      "text/plain": [
       "plot without title"
      ]
     },
     "metadata": {
      "image/png": {
       "height": 420,
       "width": 420
      }
     },
     "output_type": "display_data"
    }
   ],
   "source": [
    "# Plot of the above table which plots the average debt load each month for both groups. \n",
    "\n",
    "# TODO --  change the labels for each month\n",
    "# TODO -- Increase font size and make plot wider\n",
    "debt_ratio_plot = ratio_averages %>%\n",
    "    ggplot(aes(x=Month, y=avg_debt_ratio, color=default_status)) +\n",
    "    geom_line(data=ratio_averages, aes(group=default_status)) +\n",
    "    labs(x=\"Month\", \n",
    "         y=\"Average debt to limit balance ratio\", \n",
    "         color=\"Default Status\", \n",
    "         title=\"Average debt to limit ratio over time\")\n",
    "debt_ratio_plot"
   ]
  },
  {
   "cell_type": "code",
   "execution_count": null,
   "metadata": {},
   "outputs": [],
   "source": []
  },
  {
   "cell_type": "code",
   "execution_count": 27,
   "metadata": {},
   "outputs": [
    {
     "data": {
      "text/plain": [
       "Data Recipe\n",
       "\n",
       "Inputs:\n",
       "\n",
       "      role #variables\n",
       "   outcome          1\n",
       " predictor          5\n",
       "\n",
       "Training data contained 22500 data points and no missing data.\n",
       "\n",
       "Operations:\n",
       "\n",
       "Up-sampling based on default_status [trained]"
      ]
     },
     "metadata": {},
     "output_type": "display_data"
    }
   ],
   "source": [
    "debt_split = initial_split(clean_ccData, prop = 0.75, strata = default_status)\n",
    "debt_train = training(debt_split)\n",
    "debt_test = testing(debt_split)\n",
    "\n",
    "debt_recipe = recipe(default_status ~ sep_debt_ratio + aug_debt_ratio \n",
    "                     + jul_debt_ratio + may_debt_ratio + apr_debt_ratio, data = debt_train) %>%\n",
    "               step_upsample(default_status, over_ratio = 1, skip = FALSE) %>%\n",
    "                prep()\n",
    "debt_recipe\n",
    "#  I tried applying an upsample to the data to see if I could improve accuracy, but it actually lowered it. \n",
    "\n",
    "debt_spec = nearest_neighbor(weight_func = \"rectangular\", neighbors = tune()) %>%\n",
    "    set_engine(\"kknn\") %>%\n",
    "    set_mode(\"classification\")\n",
    "\n",
    "# TODO: Commenting out so it doesn't take forever to run every time I reopen Jupyter. Make sure to uncomment for final version\n",
    "# debt_vfold = vfold_cv(debt_train, v=5, strata = default_status)\n",
    "\n",
    "# gridvals = tibble(neighbors = seq(1, 200, by=10))\n",
    "\n",
    "# debt_results = workflow() %>%\n",
    "#     add_recipe(debt_recipe) %>%\n",
    "#     add_model(debt_spec) %>%\n",
    "#     tune_grid(resamples = debt_vfold, grid = gridvals)%>%\n",
    "#     collect_metrics()\n",
    "# debt_results"
   ]
  },
  {
   "cell_type": "code",
   "execution_count": 9,
   "metadata": {},
   "outputs": [
    {
     "ename": "ERROR",
     "evalue": "Error in eval(lhs, parent, parent): object 'debt_results' not found\n",
     "output_type": "error",
     "traceback": [
      "Error in eval(lhs, parent, parent): object 'debt_results' not found\nTraceback:\n",
      "1. debt_results %>% filter(.metric == \"accuracy\") %>% ggplot(aes(x = neighbors, \n .     y = mean))",
      "2. eval(lhs, parent, parent)",
      "3. eval(lhs, parent, parent)"
     ]
    }
   ],
   "source": [
    "vfold_plot = debt_results %>%\n",
    "    filter(.metric == \"accuracy\") %>%\n",
    "    ggplot(aes(x=neighbors, y=mean)) +\n",
    "    geom_line()\n",
    "vfold_plot\n"
   ]
  },
  {
   "cell_type": "code",
   "execution_count": null,
   "metadata": {},
   "outputs": [],
   "source": [
    "final_spec = nearest_neighbor(weight_func = \"rectangular\", neighbors = 100) %>%\n",
    "    set_engine(\"kknn\") %>%\n",
    "    set_mode(\"classification\")\n",
    "\n",
    "final_fit = workflow() %>%\n",
    "    add_recipe(debt_recipe) %>%\n",
    "    add_model(final_spec) %>%\n",
    "    fit(data = debt_train)\n",
    "final_fit\n",
    "\n",
    "debt_test_predictions = predict(final_fit, debt_test) %>%\n",
    "    bind_cols(debt_test)\n",
    "debt_test_predictions"
   ]
  },
  {
   "cell_type": "code",
   "execution_count": null,
   "metadata": {},
   "outputs": [],
   "source": []
  },
  {
   "cell_type": "code",
   "execution_count": null,
   "metadata": {},
   "outputs": [],
   "source": [
    "accuracy = debt_test_predictions %>%\n",
    "    metrics(truth = default_status, estimate = .pred_class) \n",
    "\n",
    "confidence = debt_test_predictions %>%\n",
    "    conf_mat(truth = default_status, estimate = .pred_class)\n",
    "\n",
    "accuracy\n",
    "confidence"
   ]
  },
  {
   "cell_type": "code",
   "execution_count": null,
   "metadata": {},
   "outputs": [],
   "source": [
    "test\n"
   ]
  }
 ],
 "metadata": {
  "kernelspec": {
   "display_name": "R",
   "language": "R",
   "name": "ir"
  },
  "language_info": {
   "codemirror_mode": "r",
   "file_extension": ".r",
   "mimetype": "text/x-r-source",
   "name": "R",
   "pygments_lexer": "r",
   "version": "4.0.0"
  }
 },
 "nbformat": 4,
 "nbformat_minor": 4
}
