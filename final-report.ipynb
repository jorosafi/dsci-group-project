{
 "cells": [
  {
   "cell_type": "code",
   "execution_count": 86,
   "metadata": {},
   "outputs": [
    {
     "name": "stderr",
     "output_type": "stream",
     "text": [
      "Updating HTML index of packages in '.Library'\n",
      "\n",
      "Making 'packages.html' ...\n",
      " done\n",
      "\n"
     ]
    }
   ],
   "source": [
    "install.packages(\"themis\")"
   ]
  },
  {
   "cell_type": "code",
   "execution_count": 88,
   "metadata": {},
   "outputs": [],
   "source": [
    "#Loading needed libraries\n",
    "library(tidyverse)\n",
    "library(repr)\n",
    "library(tidymodels)\n",
    "library(readxl)\n",
    "#library(\"themis\")\n",
    "set.seed(9999)"
   ]
  },
  {
   "cell_type": "code",
   "execution_count": 61,
   "metadata": {},
   "outputs": [
    {
     "name": "stderr",
     "output_type": "stream",
     "text": [
      "New names:\n",
      "* `` -> ...1\n",
      "\n"
     ]
    },
    {
     "data": {
      "text/html": [
       "<table>\n",
       "<caption>A tibble: 6 × 25</caption>\n",
       "<thead>\n",
       "\t<tr><th scope=col>...1</th><th scope=col>X1</th><th scope=col>X2</th><th scope=col>X3</th><th scope=col>X4</th><th scope=col>X5</th><th scope=col>X6</th><th scope=col>X7</th><th scope=col>X8</th><th scope=col>X9</th><th scope=col>⋯</th><th scope=col>X15</th><th scope=col>X16</th><th scope=col>X17</th><th scope=col>X18</th><th scope=col>X19</th><th scope=col>X20</th><th scope=col>X21</th><th scope=col>X22</th><th scope=col>X23</th><th scope=col>Y</th></tr>\n",
       "\t<tr><th scope=col>&lt;chr&gt;</th><th scope=col>&lt;chr&gt;</th><th scope=col>&lt;chr&gt;</th><th scope=col>&lt;chr&gt;</th><th scope=col>&lt;chr&gt;</th><th scope=col>&lt;chr&gt;</th><th scope=col>&lt;chr&gt;</th><th scope=col>&lt;chr&gt;</th><th scope=col>&lt;chr&gt;</th><th scope=col>&lt;chr&gt;</th><th scope=col>⋯</th><th scope=col>&lt;chr&gt;</th><th scope=col>&lt;chr&gt;</th><th scope=col>&lt;chr&gt;</th><th scope=col>&lt;chr&gt;</th><th scope=col>&lt;chr&gt;</th><th scope=col>&lt;chr&gt;</th><th scope=col>&lt;chr&gt;</th><th scope=col>&lt;chr&gt;</th><th scope=col>&lt;chr&gt;</th><th scope=col>&lt;chr&gt;</th></tr>\n",
       "</thead>\n",
       "<tbody>\n",
       "\t<tr><td>ID</td><td>LIMIT_BAL</td><td>SEX</td><td>EDUCATION</td><td>MARRIAGE</td><td>AGE</td><td>PAY_0</td><td>PAY_2</td><td>PAY_3</td><td>PAY_4</td><td>⋯</td><td>BILL_AMT4</td><td>BILL_AMT5</td><td>BILL_AMT6</td><td>PAY_AMT1</td><td>PAY_AMT2</td><td>PAY_AMT3</td><td>PAY_AMT4</td><td>PAY_AMT5</td><td>PAY_AMT6</td><td>default payment next month</td></tr>\n",
       "\t<tr><td>1 </td><td>20000    </td><td>2  </td><td>2        </td><td>1       </td><td>24 </td><td>2    </td><td>2    </td><td>-1   </td><td>-1   </td><td>⋯</td><td>0        </td><td>0        </td><td>0        </td><td>0       </td><td>689     </td><td>0       </td><td>0       </td><td>0       </td><td>0       </td><td>1                         </td></tr>\n",
       "\t<tr><td>2 </td><td>120000   </td><td>2  </td><td>2        </td><td>2       </td><td>26 </td><td>-1   </td><td>2    </td><td>0    </td><td>0    </td><td>⋯</td><td>3272     </td><td>3455     </td><td>3261     </td><td>0       </td><td>1000    </td><td>1000    </td><td>1000    </td><td>0       </td><td>2000    </td><td>1                         </td></tr>\n",
       "\t<tr><td>3 </td><td>90000    </td><td>2  </td><td>2        </td><td>2       </td><td>34 </td><td>0    </td><td>0    </td><td>0    </td><td>0    </td><td>⋯</td><td>14331    </td><td>14948    </td><td>15549    </td><td>1518    </td><td>1500    </td><td>1000    </td><td>1000    </td><td>1000    </td><td>5000    </td><td>0                         </td></tr>\n",
       "\t<tr><td>4 </td><td>50000    </td><td>2  </td><td>2        </td><td>1       </td><td>37 </td><td>0    </td><td>0    </td><td>0    </td><td>0    </td><td>⋯</td><td>28314    </td><td>28959    </td><td>29547    </td><td>2000    </td><td>2019    </td><td>1200    </td><td>1100    </td><td>1069    </td><td>1000    </td><td>0                         </td></tr>\n",
       "\t<tr><td>5 </td><td>50000    </td><td>1  </td><td>2        </td><td>1       </td><td>57 </td><td>-1   </td><td>0    </td><td>-1   </td><td>0    </td><td>⋯</td><td>20940    </td><td>19146    </td><td>19131    </td><td>2000    </td><td>36681   </td><td>10000   </td><td>9000    </td><td>689     </td><td>679     </td><td>0                         </td></tr>\n",
       "</tbody>\n",
       "</table>\n"
      ],
      "text/latex": [
       "A tibble: 6 × 25\n",
       "\\begin{tabular}{lllllllllllllllllllll}\n",
       " ...1 & X1 & X2 & X3 & X4 & X5 & X6 & X7 & X8 & X9 & ⋯ & X15 & X16 & X17 & X18 & X19 & X20 & X21 & X22 & X23 & Y\\\\\n",
       " <chr> & <chr> & <chr> & <chr> & <chr> & <chr> & <chr> & <chr> & <chr> & <chr> & ⋯ & <chr> & <chr> & <chr> & <chr> & <chr> & <chr> & <chr> & <chr> & <chr> & <chr>\\\\\n",
       "\\hline\n",
       "\t ID & LIMIT\\_BAL & SEX & EDUCATION & MARRIAGE & AGE & PAY\\_0 & PAY\\_2 & PAY\\_3 & PAY\\_4 & ⋯ & BILL\\_AMT4 & BILL\\_AMT5 & BILL\\_AMT6 & PAY\\_AMT1 & PAY\\_AMT2 & PAY\\_AMT3 & PAY\\_AMT4 & PAY\\_AMT5 & PAY\\_AMT6 & default payment next month\\\\\n",
       "\t 1  & 20000     & 2   & 2         & 1        & 24  & 2     & 2     & -1    & -1    & ⋯ & 0         & 0         & 0         & 0        & 689      & 0        & 0        & 0        & 0        & 1                         \\\\\n",
       "\t 2  & 120000    & 2   & 2         & 2        & 26  & -1    & 2     & 0     & 0     & ⋯ & 3272      & 3455      & 3261      & 0        & 1000     & 1000     & 1000     & 0        & 2000     & 1                         \\\\\n",
       "\t 3  & 90000     & 2   & 2         & 2        & 34  & 0     & 0     & 0     & 0     & ⋯ & 14331     & 14948     & 15549     & 1518     & 1500     & 1000     & 1000     & 1000     & 5000     & 0                         \\\\\n",
       "\t 4  & 50000     & 2   & 2         & 1        & 37  & 0     & 0     & 0     & 0     & ⋯ & 28314     & 28959     & 29547     & 2000     & 2019     & 1200     & 1100     & 1069     & 1000     & 0                         \\\\\n",
       "\t 5  & 50000     & 1   & 2         & 1        & 57  & -1    & 0     & -1    & 0     & ⋯ & 20940     & 19146     & 19131     & 2000     & 36681    & 10000    & 9000     & 689      & 679      & 0                         \\\\\n",
       "\\end{tabular}\n"
      ],
      "text/markdown": [
       "\n",
       "A tibble: 6 × 25\n",
       "\n",
       "| ...1 &lt;chr&gt; | X1 &lt;chr&gt; | X2 &lt;chr&gt; | X3 &lt;chr&gt; | X4 &lt;chr&gt; | X5 &lt;chr&gt; | X6 &lt;chr&gt; | X7 &lt;chr&gt; | X8 &lt;chr&gt; | X9 &lt;chr&gt; | ⋯ ⋯ | X15 &lt;chr&gt; | X16 &lt;chr&gt; | X17 &lt;chr&gt; | X18 &lt;chr&gt; | X19 &lt;chr&gt; | X20 &lt;chr&gt; | X21 &lt;chr&gt; | X22 &lt;chr&gt; | X23 &lt;chr&gt; | Y &lt;chr&gt; |\n",
       "|---|---|---|---|---|---|---|---|---|---|---|---|---|---|---|---|---|---|---|---|---|\n",
       "| ID | LIMIT_BAL | SEX | EDUCATION | MARRIAGE | AGE | PAY_0 | PAY_2 | PAY_3 | PAY_4 | ⋯ | BILL_AMT4 | BILL_AMT5 | BILL_AMT6 | PAY_AMT1 | PAY_AMT2 | PAY_AMT3 | PAY_AMT4 | PAY_AMT5 | PAY_AMT6 | default payment next month |\n",
       "| 1  | 20000     | 2   | 2         | 1        | 24  | 2     | 2     | -1    | -1    | ⋯ | 0         | 0         | 0         | 0        | 689      | 0        | 0        | 0        | 0        | 1                          |\n",
       "| 2  | 120000    | 2   | 2         | 2        | 26  | -1    | 2     | 0     | 0     | ⋯ | 3272      | 3455      | 3261      | 0        | 1000     | 1000     | 1000     | 0        | 2000     | 1                          |\n",
       "| 3  | 90000     | 2   | 2         | 2        | 34  | 0     | 0     | 0     | 0     | ⋯ | 14331     | 14948     | 15549     | 1518     | 1500     | 1000     | 1000     | 1000     | 5000     | 0                          |\n",
       "| 4  | 50000     | 2   | 2         | 1        | 37  | 0     | 0     | 0     | 0     | ⋯ | 28314     | 28959     | 29547     | 2000     | 2019     | 1200     | 1100     | 1069     | 1000     | 0                          |\n",
       "| 5  | 50000     | 1   | 2         | 1        | 57  | -1    | 0     | -1    | 0     | ⋯ | 20940     | 19146     | 19131     | 2000     | 36681    | 10000    | 9000     | 689      | 679      | 0                          |\n",
       "\n"
      ],
      "text/plain": [
       "  ...1 X1        X2  X3        X4       X5  X6    X7    X8    X9    ⋯ X15      \n",
       "1 ID   LIMIT_BAL SEX EDUCATION MARRIAGE AGE PAY_0 PAY_2 PAY_3 PAY_4 ⋯ BILL_AMT4\n",
       "2 1    20000     2   2         1        24  2     2     -1    -1    ⋯ 0        \n",
       "3 2    120000    2   2         2        26  -1    2     0     0     ⋯ 3272     \n",
       "4 3    90000     2   2         2        34  0     0     0     0     ⋯ 14331    \n",
       "5 4    50000     2   2         1        37  0     0     0     0     ⋯ 28314    \n",
       "6 5    50000     1   2         1        57  -1    0     -1    0     ⋯ 20940    \n",
       "  X16       X17       X18      X19      X20      X21      X22      X23     \n",
       "1 BILL_AMT5 BILL_AMT6 PAY_AMT1 PAY_AMT2 PAY_AMT3 PAY_AMT4 PAY_AMT5 PAY_AMT6\n",
       "2 0         0         0        689      0        0        0        0       \n",
       "3 3455      3261      0        1000     1000     1000     0        2000    \n",
       "4 14948     15549     1518     1500     1000     1000     1000     5000    \n",
       "5 28959     29547     2000     2019     1200     1100     1069     1000    \n",
       "6 19146     19131     2000     36681    10000    9000     689      679     \n",
       "  Y                         \n",
       "1 default payment next month\n",
       "2 1                         \n",
       "3 1                         \n",
       "4 0                         \n",
       "5 0                         \n",
       "6 0                         "
      ]
     },
     "metadata": {},
     "output_type": "display_data"
    }
   ],
   "source": [
    "#Load dataset into Jupyter\n",
    "ccData <- read_excel('data/default-cc-data.xls')  \n",
    "head(ccData)"
   ]
  },
  {
   "cell_type": "code",
   "execution_count": 62,
   "metadata": {},
   "outputs": [
    {
     "data": {
      "text/html": [
       "<table>\n",
       "<caption>A tibble: 6 × 9</caption>\n",
       "<thead>\n",
       "\t<tr><th scope=col>client_id</th><th scope=col>limit_bal</th><th scope=col>default_status</th><th scope=col>sep_debt_ratio</th><th scope=col>aug_debt_ratio</th><th scope=col>jul_debt_ratio</th><th scope=col>jun_debt_ratio</th><th scope=col>may_debt_ratio</th><th scope=col>apr_debt_ratio</th></tr>\n",
       "\t<tr><th scope=col>&lt;chr&gt;</th><th scope=col>&lt;dbl&gt;</th><th scope=col>&lt;fct&gt;</th><th scope=col>&lt;dbl&gt;</th><th scope=col>&lt;dbl&gt;</th><th scope=col>&lt;dbl&gt;</th><th scope=col>&lt;dbl&gt;</th><th scope=col>&lt;dbl&gt;</th><th scope=col>&lt;dbl&gt;</th></tr>\n",
       "</thead>\n",
       "<tbody>\n",
       "\t<tr><td>1</td><td> 20000</td><td>yes</td><td>0.1956500</td><td>0.1551000</td><td>0.0344500</td><td>0.00000000</td><td>0.00000000</td><td>0.0000000</td></tr>\n",
       "\t<tr><td>2</td><td>120000</td><td>yes</td><td>0.0223500</td><td>0.0143750</td><td>0.0223500</td><td>0.02726667</td><td>0.02879167</td><td>0.0271750</td></tr>\n",
       "\t<tr><td>3</td><td> 90000</td><td>no </td><td>0.3248778</td><td>0.1558556</td><td>0.1506556</td><td>0.15923333</td><td>0.16608889</td><td>0.1727667</td></tr>\n",
       "\t<tr><td>4</td><td> 50000</td><td>no </td><td>0.9398000</td><td>0.9646600</td><td>0.9858200</td><td>0.56628000</td><td>0.57918000</td><td>0.5909400</td></tr>\n",
       "\t<tr><td>5</td><td> 50000</td><td>no </td><td>0.1723400</td><td>0.1134000</td><td>0.7167000</td><td>0.41880000</td><td>0.38292000</td><td>0.3826200</td></tr>\n",
       "\t<tr><td>6</td><td> 50000</td><td>no </td><td>1.2880000</td><td>1.1413800</td><td>1.1521600</td><td>0.38788000</td><td>0.39238000</td><td>0.4004800</td></tr>\n",
       "</tbody>\n",
       "</table>\n"
      ],
      "text/latex": [
       "A tibble: 6 × 9\n",
       "\\begin{tabular}{lllllllll}\n",
       " client\\_id & limit\\_bal & default\\_status & sep\\_debt\\_ratio & aug\\_debt\\_ratio & jul\\_debt\\_ratio & jun\\_debt\\_ratio & may\\_debt\\_ratio & apr\\_debt\\_ratio\\\\\n",
       " <chr> & <dbl> & <fct> & <dbl> & <dbl> & <dbl> & <dbl> & <dbl> & <dbl>\\\\\n",
       "\\hline\n",
       "\t 1 &  20000 & yes & 0.1956500 & 0.1551000 & 0.0344500 & 0.00000000 & 0.00000000 & 0.0000000\\\\\n",
       "\t 2 & 120000 & yes & 0.0223500 & 0.0143750 & 0.0223500 & 0.02726667 & 0.02879167 & 0.0271750\\\\\n",
       "\t 3 &  90000 & no  & 0.3248778 & 0.1558556 & 0.1506556 & 0.15923333 & 0.16608889 & 0.1727667\\\\\n",
       "\t 4 &  50000 & no  & 0.9398000 & 0.9646600 & 0.9858200 & 0.56628000 & 0.57918000 & 0.5909400\\\\\n",
       "\t 5 &  50000 & no  & 0.1723400 & 0.1134000 & 0.7167000 & 0.41880000 & 0.38292000 & 0.3826200\\\\\n",
       "\t 6 &  50000 & no  & 1.2880000 & 1.1413800 & 1.1521600 & 0.38788000 & 0.39238000 & 0.4004800\\\\\n",
       "\\end{tabular}\n"
      ],
      "text/markdown": [
       "\n",
       "A tibble: 6 × 9\n",
       "\n",
       "| client_id &lt;chr&gt; | limit_bal &lt;dbl&gt; | default_status &lt;fct&gt; | sep_debt_ratio &lt;dbl&gt; | aug_debt_ratio &lt;dbl&gt; | jul_debt_ratio &lt;dbl&gt; | jun_debt_ratio &lt;dbl&gt; | may_debt_ratio &lt;dbl&gt; | apr_debt_ratio &lt;dbl&gt; |\n",
       "|---|---|---|---|---|---|---|---|---|\n",
       "| 1 |  20000 | yes | 0.1956500 | 0.1551000 | 0.0344500 | 0.00000000 | 0.00000000 | 0.0000000 |\n",
       "| 2 | 120000 | yes | 0.0223500 | 0.0143750 | 0.0223500 | 0.02726667 | 0.02879167 | 0.0271750 |\n",
       "| 3 |  90000 | no  | 0.3248778 | 0.1558556 | 0.1506556 | 0.15923333 | 0.16608889 | 0.1727667 |\n",
       "| 4 |  50000 | no  | 0.9398000 | 0.9646600 | 0.9858200 | 0.56628000 | 0.57918000 | 0.5909400 |\n",
       "| 5 |  50000 | no  | 0.1723400 | 0.1134000 | 0.7167000 | 0.41880000 | 0.38292000 | 0.3826200 |\n",
       "| 6 |  50000 | no  | 1.2880000 | 1.1413800 | 1.1521600 | 0.38788000 | 0.39238000 | 0.4004800 |\n",
       "\n"
      ],
      "text/plain": [
       "  client_id limit_bal default_status sep_debt_ratio aug_debt_ratio\n",
       "1 1          20000    yes            0.1956500      0.1551000     \n",
       "2 2         120000    yes            0.0223500      0.0143750     \n",
       "3 3          90000    no             0.3248778      0.1558556     \n",
       "4 4          50000    no             0.9398000      0.9646600     \n",
       "5 5          50000    no             0.1723400      0.1134000     \n",
       "6 6          50000    no             1.2880000      1.1413800     \n",
       "  jul_debt_ratio jun_debt_ratio may_debt_ratio apr_debt_ratio\n",
       "1 0.0344500      0.00000000     0.00000000     0.0000000     \n",
       "2 0.0223500      0.02726667     0.02879167     0.0271750     \n",
       "3 0.1506556      0.15923333     0.16608889     0.1727667     \n",
       "4 0.9858200      0.56628000     0.57918000     0.5909400     \n",
       "5 0.7167000      0.41880000     0.38292000     0.3826200     \n",
       "6 1.1521600      0.38788000     0.39238000     0.4004800     "
      ]
     },
     "metadata": {},
     "output_type": "display_data"
    }
   ],
   "source": [
    "#Tidy data by \n",
    "#  taking out columns on Education, marriage and payments, \n",
    "#  renaming the columns, \n",
    "#  slicing out top two rows, \n",
    "#  Changing data types from character to numeric for all columns except for default status\n",
    "#  Changing the values for default_status to yes/no to make it readable\n",
    "#  Creating new columns that have the ratio debt to balance limit for each month across all rows*\n",
    "#\n",
    "#\n",
    "#\n",
    "#Our hypothesis is that people with higher debt loads, that is the amount of debt they have relative to their balance limit, \n",
    "#  and whose debt load increases over time, are more likely to default. That is why we are creating new colums that have the\n",
    "#  debt to limit ratio and using these as our predictor. \n",
    "\n",
    "clean_ccData = ccData %>%\n",
    "    select(-c(X2:X11))%>% \n",
    "    rename(client_id = \"...1\", \n",
    "           limit_bal = X1,\n",
    "           sep_bill = X12 , \n",
    "           aug_bill= X13 ,\n",
    "           july_bill= X14,\n",
    "           june_bill= X15,\n",
    "           may_bill= X16, \n",
    "           april_bill=X17,\n",
    "           sep_paid= X18 ,\n",
    "           aug_paid= X19, \n",
    "           july_paid= X20, \n",
    "           june_paid= X21 ,\n",
    "           may_paid= X22 ,\n",
    "           april_paid= X23,\n",
    "           default_status = Y)%>%\n",
    "    slice(2:30001) %>%\n",
    "    mutate_if(is.character, as.numeric) %>%\n",
    "    mutate(client_id = as.character(client_id),\n",
    "           default_status = case_when(default_status ==\"1\"~\"yes\",\n",
    "                                     default_status== \"0\"~\"no\"),\n",
    "           default_status = as.factor(default_status),\n",
    "           apr_debt_ratio = april_bill/limit_bal,\n",
    "           may_debt_ratio = may_bill/limit_bal,\n",
    "           jun_debt_ratio = june_bill/limit_bal,\n",
    "           jul_debt_ratio = july_bill/limit_bal,\n",
    "           aug_debt_ratio = aug_bill/limit_bal,\n",
    "           sep_debt_ratio = sep_bill/limit_bal) %>%\n",
    "    select(client_id, limit_bal, default_status, sep_debt_ratio : apr_debt_ratio)\n",
    "\n",
    "head(clean_ccData)"
   ]
  },
  {
   "cell_type": "code",
   "execution_count": 63,
   "metadata": {},
   "outputs": [],
   "source": [
    "#Split data into trainig and testing\n",
    "debt_split = initial_split(clean_ccData, prop = 0.75, strata = default_status)\n",
    "debt_train = training(debt_split)\n",
    "debt_test = testing(debt_split)"
   ]
  },
  {
   "cell_type": "code",
   "execution_count": 64,
   "metadata": {},
   "outputs": [
    {
     "name": "stderr",
     "output_type": "stream",
     "text": [
      "`summarise()` ungrouping output (override with `.groups` argument)\n",
      "\n"
     ]
    },
    {
     "data": {
      "text/html": [
       "<table>\n",
       "<caption>A tibble: 2 × 3</caption>\n",
       "<thead>\n",
       "\t<tr><th scope=col>default_status</th><th scope=col>n</th><th scope=col>percentage</th></tr>\n",
       "\t<tr><th scope=col>&lt;fct&gt;</th><th scope=col>&lt;int&gt;</th><th scope=col>&lt;dbl&gt;</th></tr>\n",
       "</thead>\n",
       "<tbody>\n",
       "\t<tr><td>no </td><td>17523</td><td>77.88</td></tr>\n",
       "\t<tr><td>yes</td><td> 4977</td><td>22.12</td></tr>\n",
       "</tbody>\n",
       "</table>\n"
      ],
      "text/latex": [
       "A tibble: 2 × 3\n",
       "\\begin{tabular}{lll}\n",
       " default\\_status & n & percentage\\\\\n",
       " <fct> & <int> & <dbl>\\\\\n",
       "\\hline\n",
       "\t no  & 17523 & 77.88\\\\\n",
       "\t yes &  4977 & 22.12\\\\\n",
       "\\end{tabular}\n"
      ],
      "text/markdown": [
       "\n",
       "A tibble: 2 × 3\n",
       "\n",
       "| default_status &lt;fct&gt; | n &lt;int&gt; | percentage &lt;dbl&gt; |\n",
       "|---|---|---|\n",
       "| no  | 17523 | 77.88 |\n",
       "| yes |  4977 | 22.12 |\n",
       "\n"
      ],
      "text/plain": [
       "  default_status n     percentage\n",
       "1 no             17523 77.88     \n",
       "2 yes             4977 22.12     "
      ]
     },
     "metadata": {},
     "output_type": "display_data"
    },
    {
     "data": {
      "image/png": "[encoded data removed]",
      "text/plain": [
       "plot without title"
      ]
     },
     "metadata": {
      "image/png": {
       "height": 420,
       "width": 420
      }
     },
     "output_type": "display_data"
    }
   ],
   "source": [
    "#Checking whether the training data is balanced or not. \n",
    "balance_count = debt_train %>%\n",
    "    group_by(default_status) %>%\n",
    "    summarize(n=n()) %>%\n",
    "    mutate(percentage = n/nrow(debt_train)*100)\n",
    "balance_count\n",
    "\n",
    "#TODO -- Increase font size in chart, especially for title\n",
    "plot_count = balance_count %>%\n",
    "    ggplot(aes(x=default_status, y=percentage, fill=default_status)) +\n",
    "    geom_bar(stat=\"identity\") +\n",
    "    labs(x=\"Default Status\", \n",
    "         y=\"Percentage in Training Set\", \n",
    "         color=\"Default Status\", \n",
    "         title=\"Representation of default status in training set\")\n",
    "plot_count"
   ]
  },
  {
   "cell_type": "code",
   "execution_count": 82,
   "metadata": {},
   "outputs": [
    {
     "data": {
      "text/html": [
       "<table>\n",
       "<caption>A tibble: 6 × 5</caption>\n",
       "<thead>\n",
       "\t<tr><th scope=col>client_id</th><th scope=col>limit_bal</th><th scope=col>default_status</th><th scope=col>month</th><th scope=col>debt_ratio</th></tr>\n",
       "\t<tr><th scope=col>&lt;chr&gt;</th><th scope=col>&lt;dbl&gt;</th><th scope=col>&lt;fct&gt;</th><th scope=col>&lt;chr&gt;</th><th scope=col>&lt;dbl&gt;</th></tr>\n",
       "</thead>\n",
       "<tbody>\n",
       "\t<tr><td>1</td><td>20000</td><td>yes</td><td>apr_debt_ratio</td><td>0.00000</td></tr>\n",
       "\t<tr><td>1</td><td>20000</td><td>yes</td><td>may_debt_ratio</td><td>0.00000</td></tr>\n",
       "\t<tr><td>1</td><td>20000</td><td>yes</td><td>jun_debt_ratio</td><td>0.00000</td></tr>\n",
       "\t<tr><td>1</td><td>20000</td><td>yes</td><td>jul_debt_ratio</td><td>0.03445</td></tr>\n",
       "\t<tr><td>1</td><td>20000</td><td>yes</td><td>aug_debt_ratio</td><td>0.15510</td></tr>\n",
       "\t<tr><td>1</td><td>20000</td><td>yes</td><td>sep_debt_ratio</td><td>0.19565</td></tr>\n",
       "</tbody>\n",
       "</table>\n"
      ],
      "text/latex": [
       "A tibble: 6 × 5\n",
       "\\begin{tabular}{lllll}\n",
       " client\\_id & limit\\_bal & default\\_status & month & debt\\_ratio\\\\\n",
       " <chr> & <dbl> & <fct> & <chr> & <dbl>\\\\\n",
       "\\hline\n",
       "\t 1 & 20000 & yes & apr\\_debt\\_ratio & 0.00000\\\\\n",
       "\t 1 & 20000 & yes & may\\_debt\\_ratio & 0.00000\\\\\n",
       "\t 1 & 20000 & yes & jun\\_debt\\_ratio & 0.00000\\\\\n",
       "\t 1 & 20000 & yes & jul\\_debt\\_ratio & 0.03445\\\\\n",
       "\t 1 & 20000 & yes & aug\\_debt\\_ratio & 0.15510\\\\\n",
       "\t 1 & 20000 & yes & sep\\_debt\\_ratio & 0.19565\\\\\n",
       "\\end{tabular}\n"
      ],
      "text/markdown": [
       "\n",
       "A tibble: 6 × 5\n",
       "\n",
       "| client_id &lt;chr&gt; | limit_bal &lt;dbl&gt; | default_status &lt;fct&gt; | month &lt;chr&gt; | debt_ratio &lt;dbl&gt; |\n",
       "|---|---|---|---|---|\n",
       "| 1 | 20000 | yes | apr_debt_ratio | 0.00000 |\n",
       "| 1 | 20000 | yes | may_debt_ratio | 0.00000 |\n",
       "| 1 | 20000 | yes | jun_debt_ratio | 0.00000 |\n",
       "| 1 | 20000 | yes | jul_debt_ratio | 0.03445 |\n",
       "| 1 | 20000 | yes | aug_debt_ratio | 0.15510 |\n",
       "| 1 | 20000 | yes | sep_debt_ratio | 0.19565 |\n",
       "\n"
      ],
      "text/plain": [
       "  client_id limit_bal default_status month          debt_ratio\n",
       "1 1         20000     yes            apr_debt_ratio 0.00000   \n",
       "2 1         20000     yes            may_debt_ratio 0.00000   \n",
       "3 1         20000     yes            jun_debt_ratio 0.00000   \n",
       "4 1         20000     yes            jul_debt_ratio 0.03445   \n",
       "5 1         20000     yes            aug_debt_ratio 0.15510   \n",
       "6 1         20000     yes            sep_debt_ratio 0.19565   "
      ]
     },
     "metadata": {},
     "output_type": "display_data"
    }
   ],
   "source": [
    "# this is a table of the information we have for each observation\n",
    "default_pivot <- debt_train %>% \n",
    "select(client_id, limit_bal, default_status, apr_debt_ratio:sep_debt_ratio) %>% \n",
    " pivot_longer(cols = apr_debt_ratio:sep_debt_ratio,\n",
    "                 names_to = \"month\",\n",
    "                 values_to = \"debt_ratio\")\n",
    "head(default_pivot)"
   ]
  },
  {
   "cell_type": "code",
   "execution_count": 83,
   "metadata": {},
   "outputs": [
    {
     "data": {
      "image/png": "[encoded data removed]",
      "text/plain": [
       "plot without title"
      ]
     },
     "metadata": {
      "image/png": {
       "height": 420,
       "width": 420
      }
     },
     "output_type": "display_data"
    }
   ],
   "source": [
    "#Boxplot displaying the different the debt ratio distribution between people who defaulted and those who didn't\n",
    "#TODO -- add title and change labels for month\n",
    "debt_boxplot <- default_pivot %>% \n",
    "    ggplot(aes(y = debt_ratio, x = month, fill = default_status)) +\n",
    "    geom_boxplot()+\n",
    "    labs(y = \"Average Debt Ratio\", x = \"Month\", fill = \"Default Status\")\n",
    "debt_boxplot"
   ]
  },
  {
   "cell_type": "code",
   "execution_count": 65,
   "metadata": {},
   "outputs": [
    {
     "name": "stderr",
     "output_type": "stream",
     "text": [
      "`summarise()` ungrouping output (override with `.groups` argument)\n",
      "\n"
     ]
    },
    {
     "data": {
      "text/html": [
       "<table>\n",
       "<caption>A tibble: 12 × 3</caption>\n",
       "<thead>\n",
       "\t<tr><th scope=col>default_status</th><th scope=col>Month</th><th scope=col>avg_debt_ratio</th></tr>\n",
       "\t<tr><th scope=col>&lt;fct&gt;</th><th scope=col>&lt;chr&gt;</th><th scope=col>&lt;dbl&gt;</th></tr>\n",
       "</thead>\n",
       "<tbody>\n",
       "\t<tr><td>no </td><td>apr_avg </td><td>0.2963724</td></tr>\n",
       "\t<tr><td>no </td><td>bmay_avg</td><td>0.3112047</td></tr>\n",
       "\t<tr><td>no </td><td>cjun_avg</td><td>0.3361439</td></tr>\n",
       "\t<tr><td>no </td><td>djul_avg</td><td>0.3700840</td></tr>\n",
       "\t<tr><td>no </td><td>eaug_avg</td><td>0.3897087</td></tr>\n",
       "\t<tr><td>no </td><td>fsep_avg</td><td>0.4053941</td></tr>\n",
       "\t<tr><td>yes</td><td>apr_avg </td><td>0.4020887</td></tr>\n",
       "\t<tr><td>yes</td><td>bmay_avg</td><td>0.4152069</td></tr>\n",
       "\t<tr><td>yes</td><td>cjun_avg</td><td>0.4428016</td></tr>\n",
       "\t<tr><td>yes</td><td>djul_avg</td><td>0.4707586</td></tr>\n",
       "\t<tr><td>yes</td><td>eaug_avg</td><td>0.4883419</td></tr>\n",
       "\t<tr><td>yes</td><td>fsep_avg</td><td>0.4923981</td></tr>\n",
       "</tbody>\n",
       "</table>\n"
      ],
      "text/latex": [
       "A tibble: 12 × 3\n",
       "\\begin{tabular}{lll}\n",
       " default\\_status & Month & avg\\_debt\\_ratio\\\\\n",
       " <fct> & <chr> & <dbl>\\\\\n",
       "\\hline\n",
       "\t no  & apr\\_avg  & 0.2963724\\\\\n",
       "\t no  & bmay\\_avg & 0.3112047\\\\\n",
       "\t no  & cjun\\_avg & 0.3361439\\\\\n",
       "\t no  & djul\\_avg & 0.3700840\\\\\n",
       "\t no  & eaug\\_avg & 0.3897087\\\\\n",
       "\t no  & fsep\\_avg & 0.4053941\\\\\n",
       "\t yes & apr\\_avg  & 0.4020887\\\\\n",
       "\t yes & bmay\\_avg & 0.4152069\\\\\n",
       "\t yes & cjun\\_avg & 0.4428016\\\\\n",
       "\t yes & djul\\_avg & 0.4707586\\\\\n",
       "\t yes & eaug\\_avg & 0.4883419\\\\\n",
       "\t yes & fsep\\_avg & 0.4923981\\\\\n",
       "\\end{tabular}\n"
      ],
      "text/markdown": [
       "\n",
       "A tibble: 12 × 3\n",
       "\n",
       "| default_status &lt;fct&gt; | Month &lt;chr&gt; | avg_debt_ratio &lt;dbl&gt; |\n",
       "|---|---|---|\n",
       "| no  | apr_avg  | 0.2963724 |\n",
       "| no  | bmay_avg | 0.3112047 |\n",
       "| no  | cjun_avg | 0.3361439 |\n",
       "| no  | djul_avg | 0.3700840 |\n",
       "| no  | eaug_avg | 0.3897087 |\n",
       "| no  | fsep_avg | 0.4053941 |\n",
       "| yes | apr_avg  | 0.4020887 |\n",
       "| yes | bmay_avg | 0.4152069 |\n",
       "| yes | cjun_avg | 0.4428016 |\n",
       "| yes | djul_avg | 0.4707586 |\n",
       "| yes | eaug_avg | 0.4883419 |\n",
       "| yes | fsep_avg | 0.4923981 |\n",
       "\n"
      ],
      "text/plain": [
       "   default_status Month    avg_debt_ratio\n",
       "1  no             apr_avg  0.2963724     \n",
       "2  no             bmay_avg 0.3112047     \n",
       "3  no             cjun_avg 0.3361439     \n",
       "4  no             djul_avg 0.3700840     \n",
       "5  no             eaug_avg 0.3897087     \n",
       "6  no             fsep_avg 0.4053941     \n",
       "7  yes            apr_avg  0.4020887     \n",
       "8  yes            bmay_avg 0.4152069     \n",
       "9  yes            cjun_avg 0.4428016     \n",
       "10 yes            djul_avg 0.4707586     \n",
       "11 yes            eaug_avg 0.4883419     \n",
       "12 yes            fsep_avg 0.4923981     "
      ]
     },
     "metadata": {},
     "output_type": "display_data"
    }
   ],
   "source": [
    "#Since our theory is that people who have higher debt load and whose debt is increasing month to month, we need to see if there\n",
    "#  is an overall difference in debt load between those who defaulted and those who didn't. To test this, we are taking the \n",
    "#  average debt load for each group every available month and seeing if there is a difference in average debt load and how it\n",
    "#  changes over time. This table shows these averages. \n",
    "\n",
    "ratio_averages = debt_train %>%\n",
    "    group_by(default_status) %>%\n",
    "    summarize(apr_avg = mean(apr_debt_ratio),\n",
    "              bmay_avg = mean(may_debt_ratio),\n",
    "              cjun_avg = mean(jun_debt_ratio),\n",
    "              djul_avg = mean(jul_debt_ratio),\n",
    "              eaug_avg = mean(aug_debt_ratio),\n",
    "              fsep_avg = mean(sep_debt_ratio)) %>%\n",
    "    pivot_longer(cols = apr_avg:fsep_avg,\n",
    "                 names_to = \"Month\",\n",
    "                 values_to = \"avg_debt_ratio\")\n",
    "ratio_averages"
   ]
  },
  {
   "cell_type": "code",
   "execution_count": 66,
   "metadata": {},
   "outputs": [
    {
     "data": {
      "image/png": "[encoded data removed]",
      "text/plain": [
       "plot without title"
      ]
     },
     "metadata": {
      "image/png": {
       "height": 420,
       "width": 420
      }
     },
     "output_type": "display_data"
    }
   ],
   "source": [
    "# Plot of the above table which plots the average debt load each month for both groups. \n",
    "\n",
    "# TODO --  change the labels for each month\n",
    "# TODO -- Increase font size and make plot wider\n",
    "debt_ratio_plot = ratio_averages %>%\n",
    "    ggplot(aes(x=Month, y=avg_debt_ratio, color=default_status)) +\n",
    "    geom_line(data=ratio_averages, aes(group=default_status)) +\n",
    "    labs(x=\"Month\", \n",
    "         y=\"Average debt to limit balance ratio\", \n",
    "         color=\"Default Status\", \n",
    "         title=\"Average debt to limit ratio over time\")\n",
    "debt_ratio_plot"
   ]
  },
  {
   "cell_type": "code",
   "execution_count": 76,
   "metadata": {},
   "outputs": [
    {
     "data": {
      "text/plain": [
       "Data Recipe\n",
       "\n",
       "Inputs:\n",
       "\n",
       "      role #variables\n",
       "   outcome          1\n",
       " predictor          5"
      ]
     },
     "metadata": {},
     "output_type": "display_data"
    }
   ],
   "source": [
    "#Model recipe -- using upsample because training data is unbalanced with only 22% of people defaulting\n",
    "debt_recipe = recipe(default_status ~ sep_debt_ratio + aug_debt_ratio \n",
    "                     + jul_debt_ratio + may_debt_ratio + apr_debt_ratio, data = debt_train) #%>%\n",
    "#    step_upsample(default_status, over_ratio = 1, skip = FALSE) %>%\n",
    "#    prep()\n",
    "# TODO -- for some reason, the step upsample is not working with the workflow. Need to figure this out if we want to use upsampling\n",
    "\n",
    "debt_recipe"
   ]
  },
  {
   "cell_type": "code",
   "execution_count": 77,
   "metadata": {},
   "outputs": [
    {
     "data": {
      "text/plain": [
       "K-Nearest Neighbor Model Specification (classification)\n",
       "\n",
       "Main Arguments:\n",
       "  neighbors = tune()\n",
       "  weight_func = rectangular\n",
       "\n",
       "Computational engine: kknn \n"
      ]
     },
     "metadata": {},
     "output_type": "display_data"
    }
   ],
   "source": [
    "debt_spec = nearest_neighbor(weight_func = \"rectangular\", neighbors = tune()) %>%\n",
    "    set_engine(\"kknn\") %>%\n",
    "    set_mode(\"classification\")\n",
    "debt_spec"
   ]
  },
  {
   "cell_type": "code",
   "execution_count": 78,
   "metadata": {},
   "outputs": [
    {
     "data": {
      "text/html": [
       "<table>\n",
       "<caption>A tibble: 6 × 7</caption>\n",
       "<thead>\n",
       "\t<tr><th scope=col>neighbors</th><th scope=col>.metric</th><th scope=col>.estimator</th><th scope=col>mean</th><th scope=col>n</th><th scope=col>std_err</th><th scope=col>.config</th></tr>\n",
       "\t<tr><th scope=col>&lt;int&gt;</th><th scope=col>&lt;chr&gt;</th><th scope=col>&lt;chr&gt;</th><th scope=col>&lt;dbl&gt;</th><th scope=col>&lt;int&gt;</th><th scope=col>&lt;dbl&gt;</th><th scope=col>&lt;chr&gt;</th></tr>\n",
       "</thead>\n",
       "<tbody>\n",
       "\t<tr><td> 98</td><td>accuracy</td><td>binary</td><td>0.7781779</td><td>5</td><td>0.0002484490</td><td>Model1</td></tr>\n",
       "\t<tr><td> 98</td><td>roc_auc </td><td>binary</td><td>0.6405813</td><td>5</td><td>0.0035350632</td><td>Model1</td></tr>\n",
       "\t<tr><td> 99</td><td>accuracy</td><td>binary</td><td>0.7780890</td><td>5</td><td>0.0003002403</td><td>Model2</td></tr>\n",
       "\t<tr><td> 99</td><td>roc_auc </td><td>binary</td><td>0.6402695</td><td>5</td><td>0.0037234393</td><td>Model2</td></tr>\n",
       "\t<tr><td>100</td><td>accuracy</td><td>binary</td><td>0.7780890</td><td>5</td><td>0.0003002403</td><td>Model3</td></tr>\n",
       "\t<tr><td>100</td><td>roc_auc </td><td>binary</td><td>0.6407300</td><td>5</td><td>0.0038589120</td><td>Model3</td></tr>\n",
       "</tbody>\n",
       "</table>\n"
      ],
      "text/latex": [
       "A tibble: 6 × 7\n",
       "\\begin{tabular}{lllllll}\n",
       " neighbors & .metric & .estimator & mean & n & std\\_err & .config\\\\\n",
       " <int> & <chr> & <chr> & <dbl> & <int> & <dbl> & <chr>\\\\\n",
       "\\hline\n",
       "\t  98 & accuracy & binary & 0.7781779 & 5 & 0.0002484490 & Model1\\\\\n",
       "\t  98 & roc\\_auc  & binary & 0.6405813 & 5 & 0.0035350632 & Model1\\\\\n",
       "\t  99 & accuracy & binary & 0.7780890 & 5 & 0.0003002403 & Model2\\\\\n",
       "\t  99 & roc\\_auc  & binary & 0.6402695 & 5 & 0.0037234393 & Model2\\\\\n",
       "\t 100 & accuracy & binary & 0.7780890 & 5 & 0.0003002403 & Model3\\\\\n",
       "\t 100 & roc\\_auc  & binary & 0.6407300 & 5 & 0.0038589120 & Model3\\\\\n",
       "\\end{tabular}\n"
      ],
      "text/markdown": [
       "\n",
       "A tibble: 6 × 7\n",
       "\n",
       "| neighbors &lt;int&gt; | .metric &lt;chr&gt; | .estimator &lt;chr&gt; | mean &lt;dbl&gt; | n &lt;int&gt; | std_err &lt;dbl&gt; | .config &lt;chr&gt; |\n",
       "|---|---|---|---|---|---|---|\n",
       "|  98 | accuracy | binary | 0.7781779 | 5 | 0.0002484490 | Model1 |\n",
       "|  98 | roc_auc  | binary | 0.6405813 | 5 | 0.0035350632 | Model1 |\n",
       "|  99 | accuracy | binary | 0.7780890 | 5 | 0.0003002403 | Model2 |\n",
       "|  99 | roc_auc  | binary | 0.6402695 | 5 | 0.0037234393 | Model2 |\n",
       "| 100 | accuracy | binary | 0.7780890 | 5 | 0.0003002403 | Model3 |\n",
       "| 100 | roc_auc  | binary | 0.6407300 | 5 | 0.0038589120 | Model3 |\n",
       "\n"
      ],
      "text/plain": [
       "  neighbors .metric  .estimator mean      n std_err      .config\n",
       "1  98       accuracy binary     0.7781779 5 0.0002484490 Model1 \n",
       "2  98       roc_auc  binary     0.6405813 5 0.0035350632 Model1 \n",
       "3  99       accuracy binary     0.7780890 5 0.0003002403 Model2 \n",
       "4  99       roc_auc  binary     0.6402695 5 0.0037234393 Model2 \n",
       "5 100       accuracy binary     0.7780890 5 0.0003002403 Model3 \n",
       "6 100       roc_auc  binary     0.6407300 5 0.0038589120 Model3 "
      ]
     },
     "metadata": {},
     "output_type": "display_data"
    }
   ],
   "source": [
    "# TODO: Commenting out so it doesn't take forever to run every time I reopen Jupyter. Make sure to uncomment for final version\n",
    "debt_vfold = vfold_cv(debt_train, v=5, strata = default_status)\n",
    "\n",
    "gridvals = tibble(neighbors = seq(98, 100))\n",
    "\n",
    "debt_results = workflow() %>%\n",
    "    add_recipe(debt_recipe) %>%\n",
    "    add_model(debt_spec) %>%\n",
    "    tune_grid(resamples = debt_vfold, grid = gridvals)%>%\n",
    "    collect_metrics()\n",
    "debt_results"
   ]
  },
  {
   "cell_type": "code",
   "execution_count": 79,
   "metadata": {},
   "outputs": [
    {
     "data": {
      "image/png": "[encoded data removed]",
      "text/plain": [
       "plot without title"
      ]
     },
     "metadata": {
      "image/png": {
       "height": 420,
       "width": 420
      }
     },
     "output_type": "display_data"
    }
   ],
   "source": [
    "vfold_plot = debt_results %>%\n",
    "    filter(.metric == \"accuracy\") %>%\n",
    "    ggplot(aes(x=neighbors, y=mean)) +\n",
    "    geom_line()\n",
    "vfold_plot\n"
   ]
  },
  {
   "cell_type": "code",
   "execution_count": 80,
   "metadata": {},
   "outputs": [
    {
     "data": {
      "text/plain": [
       "══ Workflow [trained] ══════════════════════════════════════════════════════════\n",
       "\u001b[3mPreprocessor:\u001b[23m Recipe\n",
       "\u001b[3mModel:\u001b[23m nearest_neighbor()\n",
       "\n",
       "── Preprocessor ────────────────────────────────────────────────────────────────\n",
       "0 Recipe Steps\n",
       "\n",
       "── Model ───────────────────────────────────────────────────────────────────────\n",
       "\n",
       "Call:\n",
       "kknn::train.kknn(formula = ..y ~ ., data = data, ks = ~95, kernel = ~\"rectangular\")\n",
       "\n",
       "Type of response variable: nominal\n",
       "Minimal misclassification: 0.2213778\n",
       "Best kernel: rectangular\n",
       "Best k: 95"
      ]
     },
     "metadata": {},
     "output_type": "display_data"
    },
    {
     "data": {
      "text/html": [
       "<table>\n",
       "<caption>A tibble: 7500 × 10</caption>\n",
       "<thead>\n",
       "\t<tr><th scope=col>.pred_class</th><th scope=col>client_id</th><th scope=col>limit_bal</th><th scope=col>default_status</th><th scope=col>sep_debt_ratio</th><th scope=col>aug_debt_ratio</th><th scope=col>jul_debt_ratio</th><th scope=col>jun_debt_ratio</th><th scope=col>may_debt_ratio</th><th scope=col>apr_debt_ratio</th></tr>\n",
       "\t<tr><th scope=col>&lt;fct&gt;</th><th scope=col>&lt;chr&gt;</th><th scope=col>&lt;dbl&gt;</th><th scope=col>&lt;fct&gt;</th><th scope=col>&lt;dbl&gt;</th><th scope=col>&lt;dbl&gt;</th><th scope=col>&lt;dbl&gt;</th><th scope=col>&lt;dbl&gt;</th><th scope=col>&lt;dbl&gt;</th><th scope=col>&lt;dbl&gt;</th></tr>\n",
       "</thead>\n",
       "<tbody>\n",
       "\t<tr><td>no</td><td>6  </td><td> 50000</td><td>no </td><td>1.28800000</td><td> 1.14138000</td><td> 1.152160000</td><td> 0.38788000</td><td> 0.39238000</td><td> 0.400480000</td></tr>\n",
       "\t<tr><td>no</td><td>11 </td><td>200000</td><td>no </td><td>0.05536500</td><td> 0.04893500</td><td> 0.027675000</td><td> 0.01256500</td><td> 0.00914000</td><td> 0.018655000</td></tr>\n",
       "\t<tr><td>no</td><td>12 </td><td>260000</td><td>no </td><td>0.04715769</td><td> 0.08334615</td><td> 0.038330769</td><td> 0.03275769</td><td> 0.08571923</td><td> 0.052569231</td></tr>\n",
       "\t<tr><td>no</td><td>13 </td><td>630000</td><td>no </td><td>0.01926508</td><td> 0.01031746</td><td> 0.010317460</td><td> 0.01031746</td><td> 0.01031746</td><td> 0.004555556</td></tr>\n",
       "\t<tr><td>no</td><td>14 </td><td> 70000</td><td>yes</td><td>0.94002857</td><td> 0.96241429</td><td> 0.938585714</td><td> 0.95402857</td><td> 0.51624286</td><td> 0.527057143</td></tr>\n",
       "\t<tr><td>no</td><td>15 </td><td>250000</td><td>no </td><td>0.28354800</td><td> 0.26824000</td><td> 0.254244000</td><td> 0.23878400</td><td> 0.22750000</td><td> 0.222048000</td></tr>\n",
       "\t<tr><td>no</td><td>21 </td><td>130000</td><td>no </td><td>0.29506154</td><td> 0.21298462</td><td> 0.188376923</td><td> 0.15858462</td><td> 0.09078462</td><td> 0.007153846</td></tr>\n",
       "\t<tr><td>no</td><td>32 </td><td> 50000</td><td>yes</td><td>0.61036000</td><td> 0.59236000</td><td> 0.442040000</td><td> 0.45468000</td><td> 0.46434000</td><td> 0.473600000</td></tr>\n",
       "\t<tr><td>no</td><td>36 </td><td>160000</td><td>no </td><td>0.18915625</td><td>-0.00081875</td><td>-0.003293750</td><td>-0.00576875</td><td>-0.00930000</td><td>-0.011775000</td></tr>\n",
       "\t<tr><td>no</td><td>38 </td><td> 60000</td><td>no </td><td>0.25090000</td><td> 0.16343333</td><td> 0.184466667</td><td> 0.10043333</td><td>-0.47225000</td><td> 0.311000000</td></tr>\n",
       "\t<tr><td>no</td><td>42 </td><td> 70000</td><td>no </td><td>0.96458571</td><td> 0.95712857</td><td> 0.913557143</td><td> 0.90998571</td><td> 0.92454286</td><td> 0.942428571</td></tr>\n",
       "\t<tr><td>no</td><td>47 </td><td> 20000</td><td>yes</td><td>0.70140000</td><td> 0.82420000</td><td> 0.790000000</td><td> 0.81705000</td><td> 0.83375000</td><td> 0.000000000</td></tr>\n",
       "\t<tr><td>no</td><td>51 </td><td> 70000</td><td>yes</td><td>0.52917143</td><td> 0.51672857</td><td> 0.547928571</td><td> 0.56318571</td><td> 0.55227143</td><td> 0.562314286</td></tr>\n",
       "\t<tr><td>no</td><td>52 </td><td>100000</td><td>no </td><td>0.61559000</td><td> 0.51163000</td><td> 0.438240000</td><td> 0.39619000</td><td> 0.35762000</td><td> 0.332580000</td></tr>\n",
       "\t<tr><td>no</td><td>56 </td><td>500000</td><td>no </td><td>0.00381000</td><td> 0.00728000</td><td> 0.000324000</td><td> 0.00000000</td><td> 0.00030200</td><td> 0.005060000</td></tr>\n",
       "\t<tr><td>no</td><td>58 </td><td>180000</td><td>no </td><td>0.97714444</td><td> 0.96355556</td><td> 0.957266667</td><td> 0.93671111</td><td> 0.73445556</td><td> 0.721766667</td></tr>\n",
       "\t<tr><td>no</td><td>59 </td><td>200000</td><td>no </td><td>0.00793500</td><td> 0.00549000</td><td> 0.003910000</td><td> 0.00583000</td><td> 0.00350000</td><td> 0.007070000</td></tr>\n",
       "\t<tr><td>no</td><td>63 </td><td> 50000</td><td>yes</td><td>0.49974000</td><td> 0.48600000</td><td> 0.531820000</td><td> 0.51730000</td><td> 0.55334000</td><td> 0.565280000</td></tr>\n",
       "\t<tr><td>no</td><td>66 </td><td>200000</td><td>yes</td><td>0.76259500</td><td> 0.74375500</td><td> 0.720380000</td><td> 0.04087000</td><td> 0.04099000</td><td> 0.039590000</td></tr>\n",
       "\t<tr><td>no</td><td>67 </td><td> 10000</td><td>yes</td><td>0.20970000</td><td> 0.41930000</td><td> 0.397800000</td><td> 0.40620000</td><td> 0.41960000</td><td> 0.432600000</td></tr>\n",
       "\t<tr><td>no</td><td>70 </td><td> 20000</td><td>no </td><td>0.92825000</td><td> 0.86020000</td><td> 0.864250000</td><td> 0.90425000</td><td> 0.56025000</td><td> 0.299100000</td></tr>\n",
       "\t<tr><td>no</td><td>76 </td><td> 20000</td><td>no </td><td>0.73095000</td><td> 0.86080000</td><td> 0.832100000</td><td> 0.84880000</td><td> 0.86660000</td><td> 0.927150000</td></tr>\n",
       "\t<tr><td>no</td><td>80 </td><td>240000</td><td>yes</td><td>0.00000000</td><td> 0.00000000</td><td> 0.000000000</td><td> 0.00000000</td><td> 0.00000000</td><td> 0.000000000</td></tr>\n",
       "\t<tr><td>no</td><td>81 </td><td>470000</td><td>no </td><td>0.35160426</td><td> 0.33571064</td><td> 0.346174468</td><td> 0.14877234</td><td> 0.06227872</td><td> 0.063593617</td></tr>\n",
       "\t<tr><td>no</td><td>83 </td><td> 60000</td><td>yes</td><td>0.43873333</td><td> 0.45785000</td><td> 0.468466667</td><td> 0.36655000</td><td> 0.33165000</td><td> 0.329516667</td></tr>\n",
       "\t<tr><td>no</td><td>88 </td><td>160000</td><td>no </td><td>0.02391250</td><td> 0.02969375</td><td> 0.041275000</td><td> 0.05377500</td><td> 0.04420000</td><td> 0.004787500</td></tr>\n",
       "\t<tr><td>no</td><td>89 </td><td>130000</td><td>no </td><td>0.62548462</td><td> 0.90666154</td><td> 0.136461538</td><td> 0.01023077</td><td> 0.05457692</td><td> 0.009153846</td></tr>\n",
       "\t<tr><td>no</td><td>96 </td><td> 90000</td><td>no </td><td>0.93027778</td><td> 0.95551111</td><td> 0.973922222</td><td> 0.39516667</td><td> 0.34380000</td><td> 0.342611111</td></tr>\n",
       "\t<tr><td>no</td><td>97 </td><td>360000</td><td>no </td><td>0.01101944</td><td> 0.02311667</td><td> 0.009427778</td><td> 0.01791944</td><td> 0.07325000</td><td> 0.027655556</td></tr>\n",
       "\t<tr><td>no</td><td>105</td><td> 60000</td><td>no </td><td>0.94475000</td><td> 0.92013333</td><td> 0.986250000</td><td> 1.00363333</td><td> 0.92411667</td><td> 0.921750000</td></tr>\n",
       "\t<tr><td>⋮</td><td>⋮</td><td>⋮</td><td>⋮</td><td>⋮</td><td>⋮</td><td>⋮</td><td>⋮</td><td>⋮</td><td>⋮</td></tr>\n",
       "\t<tr><td>no</td><td>29868</td><td>340000</td><td>no </td><td> 0.1319264706</td><td> 0.9754147059</td><td>0.9745117647</td><td>0.843117647</td><td>0.775014706</td><td> 0.7889882353</td></tr>\n",
       "\t<tr><td>no</td><td>29870</td><td> 80000</td><td>no </td><td> 0.6280500000</td><td> 0.6405375000</td><td>0.6539875000</td><td>0.728062500</td><td>0.709100000</td><td> 0.6961375000</td></tr>\n",
       "\t<tr><td>no</td><td>29871</td><td> 10000</td><td>yes</td><td> 0.9018000000</td><td> 1.0015000000</td><td>1.0067000000</td><td>1.010500000</td><td>0.947100000</td><td> 0.9669000000</td></tr>\n",
       "\t<tr><td>no</td><td>29874</td><td>100000</td><td>no </td><td> 0.6137800000</td><td> 0.6275600000</td><td>0.6414700000</td><td>0.659100000</td><td>0.610180000</td><td> 0.6287800000</td></tr>\n",
       "\t<tr><td>no</td><td>29881</td><td>140000</td><td>yes</td><td> 0.9661500000</td><td> 0.9857071429</td><td>1.0109428571</td><td>0.541535714</td><td>0.464992857</td><td> 0.4746071429</td></tr>\n",
       "\t<tr><td>no</td><td>29882</td><td>390000</td><td>no </td><td> 0.4477000000</td><td> 0.4566333333</td><td>0.4749025641</td><td>0.481148718</td><td>0.493687179</td><td> 0.5098153846</td></tr>\n",
       "\t<tr><td>no</td><td>29883</td><td> 20000</td><td>no </td><td> 0.8393500000</td><td> 0.9232000000</td><td>0.0000000000</td><td>0.000000000</td><td>0.000000000</td><td> 0.0000000000</td></tr>\n",
       "\t<tr><td>no</td><td>29896</td><td>230000</td><td>no </td><td> 0.1734782609</td><td> 0.0052173913</td><td>0.0000000000</td><td>0.048743478</td><td>0.000000000</td><td> 0.0000000000</td></tr>\n",
       "\t<tr><td>no</td><td>29901</td><td> 20000</td><td>yes</td><td> 0.8404500000</td><td> 0.0000000000</td><td>0.0000000000</td><td>0.000000000</td><td>0.000000000</td><td> 0.0000000000</td></tr>\n",
       "\t<tr><td>no</td><td>29906</td><td> 50000</td><td>yes</td><td> 0.3495800000</td><td> 0.3639000000</td><td>0.3522800000</td><td>0.372600000</td><td>0.380000000</td><td> 0.3884200000</td></tr>\n",
       "\t<tr><td>no</td><td>29908</td><td>240000</td><td>yes</td><td> 0.2701083333</td><td> 0.3039625000</td><td>0.2618666667</td><td>0.252687500</td><td>0.239808333</td><td> 0.2390625000</td></tr>\n",
       "\t<tr><td>no</td><td>29911</td><td>310000</td><td>no </td><td> 0.0005387097</td><td>-0.0007193548</td><td>0.0025161290</td><td>0.000000000</td><td>0.000000000</td><td> 0.0009387097</td></tr>\n",
       "\t<tr><td>no</td><td>29920</td><td> 50000</td><td>yes</td><td> 0.0611400000</td><td> 0.0685400000</td><td>0.0641400000</td><td>0.000000000</td><td>0.025000000</td><td> 0.1049000000</td></tr>\n",
       "\t<tr><td>no</td><td>29925</td><td> 50000</td><td>no </td><td> 0.9814600000</td><td> 0.9906200000</td><td>0.8800400000</td><td>0.887120000</td><td>0.386880000</td><td> 0.3870800000</td></tr>\n",
       "\t<tr><td>no</td><td>29938</td><td>320000</td><td>no </td><td> 0.0439843750</td><td> 0.0212906250</td><td>0.0421312500</td><td>0.009296875</td><td>0.006340625</td><td> 0.0027750000</td></tr>\n",
       "\t<tr><td>no</td><td>29941</td><td> 20000</td><td>no </td><td> 1.0366500000</td><td> 1.0054500000</td><td>1.0063000000</td><td>0.946400000</td><td>0.938050000</td><td> 0.9393500000</td></tr>\n",
       "\t<tr><td>no</td><td>29944</td><td>500000</td><td>no </td><td> 0.0630080000</td><td> 0.0550920000</td><td>0.0403780000</td><td>0.024116000</td><td>0.029384000</td><td> 0.0165480000</td></tr>\n",
       "\t<tr><td>no</td><td>29946</td><td> 30000</td><td>no </td><td> 0.9552666667</td><td> 0.9427000000</td><td>0.9942000000</td><td>0.952400000</td><td>0.302400000</td><td> 0.0000000000</td></tr>\n",
       "\t<tr><td>no</td><td>29954</td><td>170000</td><td>no </td><td> 0.7638117647</td><td> 0.5275529412</td><td>0.1826470588</td><td>0.000000000</td><td>0.000000000</td><td> 0.0000000000</td></tr>\n",
       "\t<tr><td>no</td><td>29955</td><td>180000</td><td>no </td><td> 0.2851277778</td><td> 0.2479888889</td><td>0.1593000000</td><td>0.082411111</td><td>0.007861111</td><td> 0.2634277778</td></tr>\n",
       "\t<tr><td>no</td><td>29959</td><td>230000</td><td>no </td><td> 0.0185260870</td><td> 0.0001086957</td><td>0.0009608696</td><td>0.001813043</td><td>0.002665217</td><td>-0.0008304348</td></tr>\n",
       "\t<tr><td>no</td><td>29963</td><td> 50000</td><td>no </td><td>-0.0052800000</td><td> 0.0052800000</td><td>0.0052800000</td><td>0.146000000</td><td>0.000000000</td><td> 0.0000000000</td></tr>\n",
       "\t<tr><td>no</td><td>29968</td><td> 50000</td><td>no </td><td> 1.0112800000</td><td> 0.9942000000</td><td>0.0000000000</td><td>1.011020000</td><td>0.811800000</td><td> 0.7876800000</td></tr>\n",
       "\t<tr><td>no</td><td>29971</td><td>360000</td><td>no </td><td> 0.0934833333</td><td> 0.1463500000</td><td>0.1779694444</td><td>0.136125000</td><td>0.024100000</td><td> 0.0541305556</td></tr>\n",
       "\t<tr><td>no</td><td>29972</td><td> 80000</td><td>no </td><td> 0.8194250000</td><td> 0.8357250000</td><td>0.8534875000</td><td>0.870925000</td><td>0.888375000</td><td> 0.9201500000</td></tr>\n",
       "\t<tr><td>no</td><td>29973</td><td>190000</td><td>no </td><td> 0.1138315789</td><td> 0.1099631579</td><td>0.0308894737</td><td>0.153805263</td><td>0.103242105</td><td> 0.7814842105</td></tr>\n",
       "\t<tr><td>no</td><td>29976</td><td>220000</td><td>no </td><td> 0.2048863636</td><td> 0.0401818182</td><td>0.0062227273</td><td>0.026927273</td><td>0.007995455</td><td> 0.0082909091</td></tr>\n",
       "\t<tr><td>no</td><td>29979</td><td>310000</td><td>no </td><td> 0.7708806452</td><td> 0.7651483871</td><td>0.7543677419</td><td>0.707770968</td><td>0.698516129</td><td> 0.6795967742</td></tr>\n",
       "\t<tr><td>no</td><td>29984</td><td> 20000</td><td>no </td><td> 0.0911000000</td><td> 0.1436000000</td><td>0.1356000000</td><td>0.144100000</td><td>0.461750000</td><td> 0.0859500000</td></tr>\n",
       "\t<tr><td>no</td><td>29986</td><td>240000</td><td>no </td><td> 0.0000000000</td><td> 0.0000000000</td><td>0.0000000000</td><td>0.000000000</td><td>0.000000000</td><td> 0.0000000000</td></tr>\n",
       "</tbody>\n",
       "</table>\n"
      ],
      "text/latex": [
       "A tibble: 7500 × 10\n",
       "\\begin{tabular}{llllllllll}\n",
       " .pred\\_class & client\\_id & limit\\_bal & default\\_status & sep\\_debt\\_ratio & aug\\_debt\\_ratio & jul\\_debt\\_ratio & jun\\_debt\\_ratio & may\\_debt\\_ratio & apr\\_debt\\_ratio\\\\\n",
       " <fct> & <chr> & <dbl> & <fct> & <dbl> & <dbl> & <dbl> & <dbl> & <dbl> & <dbl>\\\\\n",
       "\\hline\n",
       "\t no & 6   &  50000 & no  & 1.28800000 &  1.14138000 &  1.152160000 &  0.38788000 &  0.39238000 &  0.400480000\\\\\n",
       "\t no & 11  & 200000 & no  & 0.05536500 &  0.04893500 &  0.027675000 &  0.01256500 &  0.00914000 &  0.018655000\\\\\n",
       "\t no & 12  & 260000 & no  & 0.04715769 &  0.08334615 &  0.038330769 &  0.03275769 &  0.08571923 &  0.052569231\\\\\n",
       "\t no & 13  & 630000 & no  & 0.01926508 &  0.01031746 &  0.010317460 &  0.01031746 &  0.01031746 &  0.004555556\\\\\n",
       "\t no & 14  &  70000 & yes & 0.94002857 &  0.96241429 &  0.938585714 &  0.95402857 &  0.51624286 &  0.527057143\\\\\n",
       "\t no & 15  & 250000 & no  & 0.28354800 &  0.26824000 &  0.254244000 &  0.23878400 &  0.22750000 &  0.222048000\\\\\n",
       "\t no & 21  & 130000 & no  & 0.29506154 &  0.21298462 &  0.188376923 &  0.15858462 &  0.09078462 &  0.007153846\\\\\n",
       "\t no & 32  &  50000 & yes & 0.61036000 &  0.59236000 &  0.442040000 &  0.45468000 &  0.46434000 &  0.473600000\\\\\n",
       "\t no & 36  & 160000 & no  & 0.18915625 & -0.00081875 & -0.003293750 & -0.00576875 & -0.00930000 & -0.011775000\\\\\n",
       "\t no & 38  &  60000 & no  & 0.25090000 &  0.16343333 &  0.184466667 &  0.10043333 & -0.47225000 &  0.311000000\\\\\n",
       "\t no & 42  &  70000 & no  & 0.96458571 &  0.95712857 &  0.913557143 &  0.90998571 &  0.92454286 &  0.942428571\\\\\n",
       "\t no & 47  &  20000 & yes & 0.70140000 &  0.82420000 &  0.790000000 &  0.81705000 &  0.83375000 &  0.000000000\\\\\n",
       "\t no & 51  &  70000 & yes & 0.52917143 &  0.51672857 &  0.547928571 &  0.56318571 &  0.55227143 &  0.562314286\\\\\n",
       "\t no & 52  & 100000 & no  & 0.61559000 &  0.51163000 &  0.438240000 &  0.39619000 &  0.35762000 &  0.332580000\\\\\n",
       "\t no & 56  & 500000 & no  & 0.00381000 &  0.00728000 &  0.000324000 &  0.00000000 &  0.00030200 &  0.005060000\\\\\n",
       "\t no & 58  & 180000 & no  & 0.97714444 &  0.96355556 &  0.957266667 &  0.93671111 &  0.73445556 &  0.721766667\\\\\n",
       "\t no & 59  & 200000 & no  & 0.00793500 &  0.00549000 &  0.003910000 &  0.00583000 &  0.00350000 &  0.007070000\\\\\n",
       "\t no & 63  &  50000 & yes & 0.49974000 &  0.48600000 &  0.531820000 &  0.51730000 &  0.55334000 &  0.565280000\\\\\n",
       "\t no & 66  & 200000 & yes & 0.76259500 &  0.74375500 &  0.720380000 &  0.04087000 &  0.04099000 &  0.039590000\\\\\n",
       "\t no & 67  &  10000 & yes & 0.20970000 &  0.41930000 &  0.397800000 &  0.40620000 &  0.41960000 &  0.432600000\\\\\n",
       "\t no & 70  &  20000 & no  & 0.92825000 &  0.86020000 &  0.864250000 &  0.90425000 &  0.56025000 &  0.299100000\\\\\n",
       "\t no & 76  &  20000 & no  & 0.73095000 &  0.86080000 &  0.832100000 &  0.84880000 &  0.86660000 &  0.927150000\\\\\n",
       "\t no & 80  & 240000 & yes & 0.00000000 &  0.00000000 &  0.000000000 &  0.00000000 &  0.00000000 &  0.000000000\\\\\n",
       "\t no & 81  & 470000 & no  & 0.35160426 &  0.33571064 &  0.346174468 &  0.14877234 &  0.06227872 &  0.063593617\\\\\n",
       "\t no & 83  &  60000 & yes & 0.43873333 &  0.45785000 &  0.468466667 &  0.36655000 &  0.33165000 &  0.329516667\\\\\n",
       "\t no & 88  & 160000 & no  & 0.02391250 &  0.02969375 &  0.041275000 &  0.05377500 &  0.04420000 &  0.004787500\\\\\n",
       "\t no & 89  & 130000 & no  & 0.62548462 &  0.90666154 &  0.136461538 &  0.01023077 &  0.05457692 &  0.009153846\\\\\n",
       "\t no & 96  &  90000 & no  & 0.93027778 &  0.95551111 &  0.973922222 &  0.39516667 &  0.34380000 &  0.342611111\\\\\n",
       "\t no & 97  & 360000 & no  & 0.01101944 &  0.02311667 &  0.009427778 &  0.01791944 &  0.07325000 &  0.027655556\\\\\n",
       "\t no & 105 &  60000 & no  & 0.94475000 &  0.92013333 &  0.986250000 &  1.00363333 &  0.92411667 &  0.921750000\\\\\n",
       "\t ⋮ & ⋮ & ⋮ & ⋮ & ⋮ & ⋮ & ⋮ & ⋮ & ⋮ & ⋮\\\\\n",
       "\t no & 29868 & 340000 & no  &  0.1319264706 &  0.9754147059 & 0.9745117647 & 0.843117647 & 0.775014706 &  0.7889882353\\\\\n",
       "\t no & 29870 &  80000 & no  &  0.6280500000 &  0.6405375000 & 0.6539875000 & 0.728062500 & 0.709100000 &  0.6961375000\\\\\n",
       "\t no & 29871 &  10000 & yes &  0.9018000000 &  1.0015000000 & 1.0067000000 & 1.010500000 & 0.947100000 &  0.9669000000\\\\\n",
       "\t no & 29874 & 100000 & no  &  0.6137800000 &  0.6275600000 & 0.6414700000 & 0.659100000 & 0.610180000 &  0.6287800000\\\\\n",
       "\t no & 29881 & 140000 & yes &  0.9661500000 &  0.9857071429 & 1.0109428571 & 0.541535714 & 0.464992857 &  0.4746071429\\\\\n",
       "\t no & 29882 & 390000 & no  &  0.4477000000 &  0.4566333333 & 0.4749025641 & 0.481148718 & 0.493687179 &  0.5098153846\\\\\n",
       "\t no & 29883 &  20000 & no  &  0.8393500000 &  0.9232000000 & 0.0000000000 & 0.000000000 & 0.000000000 &  0.0000000000\\\\\n",
       "\t no & 29896 & 230000 & no  &  0.1734782609 &  0.0052173913 & 0.0000000000 & 0.048743478 & 0.000000000 &  0.0000000000\\\\\n",
       "\t no & 29901 &  20000 & yes &  0.8404500000 &  0.0000000000 & 0.0000000000 & 0.000000000 & 0.000000000 &  0.0000000000\\\\\n",
       "\t no & 29906 &  50000 & yes &  0.3495800000 &  0.3639000000 & 0.3522800000 & 0.372600000 & 0.380000000 &  0.3884200000\\\\\n",
       "\t no & 29908 & 240000 & yes &  0.2701083333 &  0.3039625000 & 0.2618666667 & 0.252687500 & 0.239808333 &  0.2390625000\\\\\n",
       "\t no & 29911 & 310000 & no  &  0.0005387097 & -0.0007193548 & 0.0025161290 & 0.000000000 & 0.000000000 &  0.0009387097\\\\\n",
       "\t no & 29920 &  50000 & yes &  0.0611400000 &  0.0685400000 & 0.0641400000 & 0.000000000 & 0.025000000 &  0.1049000000\\\\\n",
       "\t no & 29925 &  50000 & no  &  0.9814600000 &  0.9906200000 & 0.8800400000 & 0.887120000 & 0.386880000 &  0.3870800000\\\\\n",
       "\t no & 29938 & 320000 & no  &  0.0439843750 &  0.0212906250 & 0.0421312500 & 0.009296875 & 0.006340625 &  0.0027750000\\\\\n",
       "\t no & 29941 &  20000 & no  &  1.0366500000 &  1.0054500000 & 1.0063000000 & 0.946400000 & 0.938050000 &  0.9393500000\\\\\n",
       "\t no & 29944 & 500000 & no  &  0.0630080000 &  0.0550920000 & 0.0403780000 & 0.024116000 & 0.029384000 &  0.0165480000\\\\\n",
       "\t no & 29946 &  30000 & no  &  0.9552666667 &  0.9427000000 & 0.9942000000 & 0.952400000 & 0.302400000 &  0.0000000000\\\\\n",
       "\t no & 29954 & 170000 & no  &  0.7638117647 &  0.5275529412 & 0.1826470588 & 0.000000000 & 0.000000000 &  0.0000000000\\\\\n",
       "\t no & 29955 & 180000 & no  &  0.2851277778 &  0.2479888889 & 0.1593000000 & 0.082411111 & 0.007861111 &  0.2634277778\\\\\n",
       "\t no & 29959 & 230000 & no  &  0.0185260870 &  0.0001086957 & 0.0009608696 & 0.001813043 & 0.002665217 & -0.0008304348\\\\\n",
       "\t no & 29963 &  50000 & no  & -0.0052800000 &  0.0052800000 & 0.0052800000 & 0.146000000 & 0.000000000 &  0.0000000000\\\\\n",
       "\t no & 29968 &  50000 & no  &  1.0112800000 &  0.9942000000 & 0.0000000000 & 1.011020000 & 0.811800000 &  0.7876800000\\\\\n",
       "\t no & 29971 & 360000 & no  &  0.0934833333 &  0.1463500000 & 0.1779694444 & 0.136125000 & 0.024100000 &  0.0541305556\\\\\n",
       "\t no & 29972 &  80000 & no  &  0.8194250000 &  0.8357250000 & 0.8534875000 & 0.870925000 & 0.888375000 &  0.9201500000\\\\\n",
       "\t no & 29973 & 190000 & no  &  0.1138315789 &  0.1099631579 & 0.0308894737 & 0.153805263 & 0.103242105 &  0.7814842105\\\\\n",
       "\t no & 29976 & 220000 & no  &  0.2048863636 &  0.0401818182 & 0.0062227273 & 0.026927273 & 0.007995455 &  0.0082909091\\\\\n",
       "\t no & 29979 & 310000 & no  &  0.7708806452 &  0.7651483871 & 0.7543677419 & 0.707770968 & 0.698516129 &  0.6795967742\\\\\n",
       "\t no & 29984 &  20000 & no  &  0.0911000000 &  0.1436000000 & 0.1356000000 & 0.144100000 & 0.461750000 &  0.0859500000\\\\\n",
       "\t no & 29986 & 240000 & no  &  0.0000000000 &  0.0000000000 & 0.0000000000 & 0.000000000 & 0.000000000 &  0.0000000000\\\\\n",
       "\\end{tabular}\n"
      ],
      "text/markdown": [
       "\n",
       "A tibble: 7500 × 10\n",
       "\n",
       "| .pred_class &lt;fct&gt; | client_id &lt;chr&gt; | limit_bal &lt;dbl&gt; | default_status &lt;fct&gt; | sep_debt_ratio &lt;dbl&gt; | aug_debt_ratio &lt;dbl&gt; | jul_debt_ratio &lt;dbl&gt; | jun_debt_ratio &lt;dbl&gt; | may_debt_ratio &lt;dbl&gt; | apr_debt_ratio &lt;dbl&gt; |\n",
       "|---|---|---|---|---|---|---|---|---|---|\n",
       "| no | 6   |  50000 | no  | 1.28800000 |  1.14138000 |  1.152160000 |  0.38788000 |  0.39238000 |  0.400480000 |\n",
       "| no | 11  | 200000 | no  | 0.05536500 |  0.04893500 |  0.027675000 |  0.01256500 |  0.00914000 |  0.018655000 |\n",
       "| no | 12  | 260000 | no  | 0.04715769 |  0.08334615 |  0.038330769 |  0.03275769 |  0.08571923 |  0.052569231 |\n",
       "| no | 13  | 630000 | no  | 0.01926508 |  0.01031746 |  0.010317460 |  0.01031746 |  0.01031746 |  0.004555556 |\n",
       "| no | 14  |  70000 | yes | 0.94002857 |  0.96241429 |  0.938585714 |  0.95402857 |  0.51624286 |  0.527057143 |\n",
       "| no | 15  | 250000 | no  | 0.28354800 |  0.26824000 |  0.254244000 |  0.23878400 |  0.22750000 |  0.222048000 |\n",
       "| no | 21  | 130000 | no  | 0.29506154 |  0.21298462 |  0.188376923 |  0.15858462 |  0.09078462 |  0.007153846 |\n",
       "| no | 32  |  50000 | yes | 0.61036000 |  0.59236000 |  0.442040000 |  0.45468000 |  0.46434000 |  0.473600000 |\n",
       "| no | 36  | 160000 | no  | 0.18915625 | -0.00081875 | -0.003293750 | -0.00576875 | -0.00930000 | -0.011775000 |\n",
       "| no | 38  |  60000 | no  | 0.25090000 |  0.16343333 |  0.184466667 |  0.10043333 | -0.47225000 |  0.311000000 |\n",
       "| no | 42  |  70000 | no  | 0.96458571 |  0.95712857 |  0.913557143 |  0.90998571 |  0.92454286 |  0.942428571 |\n",
       "| no | 47  |  20000 | yes | 0.70140000 |  0.82420000 |  0.790000000 |  0.81705000 |  0.83375000 |  0.000000000 |\n",
       "| no | 51  |  70000 | yes | 0.52917143 |  0.51672857 |  0.547928571 |  0.56318571 |  0.55227143 |  0.562314286 |\n",
       "| no | 52  | 100000 | no  | 0.61559000 |  0.51163000 |  0.438240000 |  0.39619000 |  0.35762000 |  0.332580000 |\n",
       "| no | 56  | 500000 | no  | 0.00381000 |  0.00728000 |  0.000324000 |  0.00000000 |  0.00030200 |  0.005060000 |\n",
       "| no | 58  | 180000 | no  | 0.97714444 |  0.96355556 |  0.957266667 |  0.93671111 |  0.73445556 |  0.721766667 |\n",
       "| no | 59  | 200000 | no  | 0.00793500 |  0.00549000 |  0.003910000 |  0.00583000 |  0.00350000 |  0.007070000 |\n",
       "| no | 63  |  50000 | yes | 0.49974000 |  0.48600000 |  0.531820000 |  0.51730000 |  0.55334000 |  0.565280000 |\n",
       "| no | 66  | 200000 | yes | 0.76259500 |  0.74375500 |  0.720380000 |  0.04087000 |  0.04099000 |  0.039590000 |\n",
       "| no | 67  |  10000 | yes | 0.20970000 |  0.41930000 |  0.397800000 |  0.40620000 |  0.41960000 |  0.432600000 |\n",
       "| no | 70  |  20000 | no  | 0.92825000 |  0.86020000 |  0.864250000 |  0.90425000 |  0.56025000 |  0.299100000 |\n",
       "| no | 76  |  20000 | no  | 0.73095000 |  0.86080000 |  0.832100000 |  0.84880000 |  0.86660000 |  0.927150000 |\n",
       "| no | 80  | 240000 | yes | 0.00000000 |  0.00000000 |  0.000000000 |  0.00000000 |  0.00000000 |  0.000000000 |\n",
       "| no | 81  | 470000 | no  | 0.35160426 |  0.33571064 |  0.346174468 |  0.14877234 |  0.06227872 |  0.063593617 |\n",
       "| no | 83  |  60000 | yes | 0.43873333 |  0.45785000 |  0.468466667 |  0.36655000 |  0.33165000 |  0.329516667 |\n",
       "| no | 88  | 160000 | no  | 0.02391250 |  0.02969375 |  0.041275000 |  0.05377500 |  0.04420000 |  0.004787500 |\n",
       "| no | 89  | 130000 | no  | 0.62548462 |  0.90666154 |  0.136461538 |  0.01023077 |  0.05457692 |  0.009153846 |\n",
       "| no | 96  |  90000 | no  | 0.93027778 |  0.95551111 |  0.973922222 |  0.39516667 |  0.34380000 |  0.342611111 |\n",
       "| no | 97  | 360000 | no  | 0.01101944 |  0.02311667 |  0.009427778 |  0.01791944 |  0.07325000 |  0.027655556 |\n",
       "| no | 105 |  60000 | no  | 0.94475000 |  0.92013333 |  0.986250000 |  1.00363333 |  0.92411667 |  0.921750000 |\n",
       "| ⋮ | ⋮ | ⋮ | ⋮ | ⋮ | ⋮ | ⋮ | ⋮ | ⋮ | ⋮ |\n",
       "| no | 29868 | 340000 | no  |  0.1319264706 |  0.9754147059 | 0.9745117647 | 0.843117647 | 0.775014706 |  0.7889882353 |\n",
       "| no | 29870 |  80000 | no  |  0.6280500000 |  0.6405375000 | 0.6539875000 | 0.728062500 | 0.709100000 |  0.6961375000 |\n",
       "| no | 29871 |  10000 | yes |  0.9018000000 |  1.0015000000 | 1.0067000000 | 1.010500000 | 0.947100000 |  0.9669000000 |\n",
       "| no | 29874 | 100000 | no  |  0.6137800000 |  0.6275600000 | 0.6414700000 | 0.659100000 | 0.610180000 |  0.6287800000 |\n",
       "| no | 29881 | 140000 | yes |  0.9661500000 |  0.9857071429 | 1.0109428571 | 0.541535714 | 0.464992857 |  0.4746071429 |\n",
       "| no | 29882 | 390000 | no  |  0.4477000000 |  0.4566333333 | 0.4749025641 | 0.481148718 | 0.493687179 |  0.5098153846 |\n",
       "| no | 29883 |  20000 | no  |  0.8393500000 |  0.9232000000 | 0.0000000000 | 0.000000000 | 0.000000000 |  0.0000000000 |\n",
       "| no | 29896 | 230000 | no  |  0.1734782609 |  0.0052173913 | 0.0000000000 | 0.048743478 | 0.000000000 |  0.0000000000 |\n",
       "| no | 29901 |  20000 | yes |  0.8404500000 |  0.0000000000 | 0.0000000000 | 0.000000000 | 0.000000000 |  0.0000000000 |\n",
       "| no | 29906 |  50000 | yes |  0.3495800000 |  0.3639000000 | 0.3522800000 | 0.372600000 | 0.380000000 |  0.3884200000 |\n",
       "| no | 29908 | 240000 | yes |  0.2701083333 |  0.3039625000 | 0.2618666667 | 0.252687500 | 0.239808333 |  0.2390625000 |\n",
       "| no | 29911 | 310000 | no  |  0.0005387097 | -0.0007193548 | 0.0025161290 | 0.000000000 | 0.000000000 |  0.0009387097 |\n",
       "| no | 29920 |  50000 | yes |  0.0611400000 |  0.0685400000 | 0.0641400000 | 0.000000000 | 0.025000000 |  0.1049000000 |\n",
       "| no | 29925 |  50000 | no  |  0.9814600000 |  0.9906200000 | 0.8800400000 | 0.887120000 | 0.386880000 |  0.3870800000 |\n",
       "| no | 29938 | 320000 | no  |  0.0439843750 |  0.0212906250 | 0.0421312500 | 0.009296875 | 0.006340625 |  0.0027750000 |\n",
       "| no | 29941 |  20000 | no  |  1.0366500000 |  1.0054500000 | 1.0063000000 | 0.946400000 | 0.938050000 |  0.9393500000 |\n",
       "| no | 29944 | 500000 | no  |  0.0630080000 |  0.0550920000 | 0.0403780000 | 0.024116000 | 0.029384000 |  0.0165480000 |\n",
       "| no | 29946 |  30000 | no  |  0.9552666667 |  0.9427000000 | 0.9942000000 | 0.952400000 | 0.302400000 |  0.0000000000 |\n",
       "| no | 29954 | 170000 | no  |  0.7638117647 |  0.5275529412 | 0.1826470588 | 0.000000000 | 0.000000000 |  0.0000000000 |\n",
       "| no | 29955 | 180000 | no  |  0.2851277778 |  0.2479888889 | 0.1593000000 | 0.082411111 | 0.007861111 |  0.2634277778 |\n",
       "| no | 29959 | 230000 | no  |  0.0185260870 |  0.0001086957 | 0.0009608696 | 0.001813043 | 0.002665217 | -0.0008304348 |\n",
       "| no | 29963 |  50000 | no  | -0.0052800000 |  0.0052800000 | 0.0052800000 | 0.146000000 | 0.000000000 |  0.0000000000 |\n",
       "| no | 29968 |  50000 | no  |  1.0112800000 |  0.9942000000 | 0.0000000000 | 1.011020000 | 0.811800000 |  0.7876800000 |\n",
       "| no | 29971 | 360000 | no  |  0.0934833333 |  0.1463500000 | 0.1779694444 | 0.136125000 | 0.024100000 |  0.0541305556 |\n",
       "| no | 29972 |  80000 | no  |  0.8194250000 |  0.8357250000 | 0.8534875000 | 0.870925000 | 0.888375000 |  0.9201500000 |\n",
       "| no | 29973 | 190000 | no  |  0.1138315789 |  0.1099631579 | 0.0308894737 | 0.153805263 | 0.103242105 |  0.7814842105 |\n",
       "| no | 29976 | 220000 | no  |  0.2048863636 |  0.0401818182 | 0.0062227273 | 0.026927273 | 0.007995455 |  0.0082909091 |\n",
       "| no | 29979 | 310000 | no  |  0.7708806452 |  0.7651483871 | 0.7543677419 | 0.707770968 | 0.698516129 |  0.6795967742 |\n",
       "| no | 29984 |  20000 | no  |  0.0911000000 |  0.1436000000 | 0.1356000000 | 0.144100000 | 0.461750000 |  0.0859500000 |\n",
       "| no | 29986 | 240000 | no  |  0.0000000000 |  0.0000000000 | 0.0000000000 | 0.000000000 | 0.000000000 |  0.0000000000 |\n",
       "\n"
      ],
      "text/plain": [
       "     .pred_class client_id limit_bal default_status sep_debt_ratio\n",
       "1    no          6          50000    no             1.28800000    \n",
       "2    no          11        200000    no             0.05536500    \n",
       "3    no          12        260000    no             0.04715769    \n",
       "4    no          13        630000    no             0.01926508    \n",
       "5    no          14         70000    yes            0.94002857    \n",
       "6    no          15        250000    no             0.28354800    \n",
       "7    no          21        130000    no             0.29506154    \n",
       "8    no          32         50000    yes            0.61036000    \n",
       "9    no          36        160000    no             0.18915625    \n",
       "10   no          38         60000    no             0.25090000    \n",
       "11   no          42         70000    no             0.96458571    \n",
       "12   no          47         20000    yes            0.70140000    \n",
       "13   no          51         70000    yes            0.52917143    \n",
       "14   no          52        100000    no             0.61559000    \n",
       "15   no          56        500000    no             0.00381000    \n",
       "16   no          58        180000    no             0.97714444    \n",
       "17   no          59        200000    no             0.00793500    \n",
       "18   no          63         50000    yes            0.49974000    \n",
       "19   no          66        200000    yes            0.76259500    \n",
       "20   no          67         10000    yes            0.20970000    \n",
       "21   no          70         20000    no             0.92825000    \n",
       "22   no          76         20000    no             0.73095000    \n",
       "23   no          80        240000    yes            0.00000000    \n",
       "24   no          81        470000    no             0.35160426    \n",
       "25   no          83         60000    yes            0.43873333    \n",
       "26   no          88        160000    no             0.02391250    \n",
       "27   no          89        130000    no             0.62548462    \n",
       "28   no          96         90000    no             0.93027778    \n",
       "29   no          97        360000    no             0.01101944    \n",
       "30   no          105        60000    no             0.94475000    \n",
       "⋮    ⋮           ⋮         ⋮         ⋮              ⋮             \n",
       "7471 no          29868     340000    no              0.1319264706 \n",
       "7472 no          29870      80000    no              0.6280500000 \n",
       "7473 no          29871      10000    yes             0.9018000000 \n",
       "7474 no          29874     100000    no              0.6137800000 \n",
       "7475 no          29881     140000    yes             0.9661500000 \n",
       "7476 no          29882     390000    no              0.4477000000 \n",
       "7477 no          29883      20000    no              0.8393500000 \n",
       "7478 no          29896     230000    no              0.1734782609 \n",
       "7479 no          29901      20000    yes             0.8404500000 \n",
       "7480 no          29906      50000    yes             0.3495800000 \n",
       "7481 no          29908     240000    yes             0.2701083333 \n",
       "7482 no          29911     310000    no              0.0005387097 \n",
       "7483 no          29920      50000    yes             0.0611400000 \n",
       "7484 no          29925      50000    no              0.9814600000 \n",
       "7485 no          29938     320000    no              0.0439843750 \n",
       "7486 no          29941      20000    no              1.0366500000 \n",
       "7487 no          29944     500000    no              0.0630080000 \n",
       "7488 no          29946      30000    no              0.9552666667 \n",
       "7489 no          29954     170000    no              0.7638117647 \n",
       "7490 no          29955     180000    no              0.2851277778 \n",
       "7491 no          29959     230000    no              0.0185260870 \n",
       "7492 no          29963      50000    no             -0.0052800000 \n",
       "7493 no          29968      50000    no              1.0112800000 \n",
       "7494 no          29971     360000    no              0.0934833333 \n",
       "7495 no          29972      80000    no              0.8194250000 \n",
       "7496 no          29973     190000    no              0.1138315789 \n",
       "7497 no          29976     220000    no              0.2048863636 \n",
       "7498 no          29979     310000    no              0.7708806452 \n",
       "7499 no          29984      20000    no              0.0911000000 \n",
       "7500 no          29986     240000    no              0.0000000000 \n",
       "     aug_debt_ratio jul_debt_ratio jun_debt_ratio may_debt_ratio apr_debt_ratio\n",
       "1     1.14138000     1.152160000    0.38788000     0.39238000     0.400480000  \n",
       "2     0.04893500     0.027675000    0.01256500     0.00914000     0.018655000  \n",
       "3     0.08334615     0.038330769    0.03275769     0.08571923     0.052569231  \n",
       "4     0.01031746     0.010317460    0.01031746     0.01031746     0.004555556  \n",
       "5     0.96241429     0.938585714    0.95402857     0.51624286     0.527057143  \n",
       "6     0.26824000     0.254244000    0.23878400     0.22750000     0.222048000  \n",
       "7     0.21298462     0.188376923    0.15858462     0.09078462     0.007153846  \n",
       "8     0.59236000     0.442040000    0.45468000     0.46434000     0.473600000  \n",
       "9    -0.00081875    -0.003293750   -0.00576875    -0.00930000    -0.011775000  \n",
       "10    0.16343333     0.184466667    0.10043333    -0.47225000     0.311000000  \n",
       "11    0.95712857     0.913557143    0.90998571     0.92454286     0.942428571  \n",
       "12    0.82420000     0.790000000    0.81705000     0.83375000     0.000000000  \n",
       "13    0.51672857     0.547928571    0.56318571     0.55227143     0.562314286  \n",
       "14    0.51163000     0.438240000    0.39619000     0.35762000     0.332580000  \n",
       "15    0.00728000     0.000324000    0.00000000     0.00030200     0.005060000  \n",
       "16    0.96355556     0.957266667    0.93671111     0.73445556     0.721766667  \n",
       "17    0.00549000     0.003910000    0.00583000     0.00350000     0.007070000  \n",
       "18    0.48600000     0.531820000    0.51730000     0.55334000     0.565280000  \n",
       "19    0.74375500     0.720380000    0.04087000     0.04099000     0.039590000  \n",
       "20    0.41930000     0.397800000    0.40620000     0.41960000     0.432600000  \n",
       "21    0.86020000     0.864250000    0.90425000     0.56025000     0.299100000  \n",
       "22    0.86080000     0.832100000    0.84880000     0.86660000     0.927150000  \n",
       "23    0.00000000     0.000000000    0.00000000     0.00000000     0.000000000  \n",
       "24    0.33571064     0.346174468    0.14877234     0.06227872     0.063593617  \n",
       "25    0.45785000     0.468466667    0.36655000     0.33165000     0.329516667  \n",
       "26    0.02969375     0.041275000    0.05377500     0.04420000     0.004787500  \n",
       "27    0.90666154     0.136461538    0.01023077     0.05457692     0.009153846  \n",
       "28    0.95551111     0.973922222    0.39516667     0.34380000     0.342611111  \n",
       "29    0.02311667     0.009427778    0.01791944     0.07325000     0.027655556  \n",
       "30    0.92013333     0.986250000    1.00363333     0.92411667     0.921750000  \n",
       "⋮    ⋮              ⋮              ⋮              ⋮              ⋮             \n",
       "7471  0.9754147059  0.9745117647   0.843117647    0.775014706     0.7889882353 \n",
       "7472  0.6405375000  0.6539875000   0.728062500    0.709100000     0.6961375000 \n",
       "7473  1.0015000000  1.0067000000   1.010500000    0.947100000     0.9669000000 \n",
       "7474  0.6275600000  0.6414700000   0.659100000    0.610180000     0.6287800000 \n",
       "7475  0.9857071429  1.0109428571   0.541535714    0.464992857     0.4746071429 \n",
       "7476  0.4566333333  0.4749025641   0.481148718    0.493687179     0.5098153846 \n",
       "7477  0.9232000000  0.0000000000   0.000000000    0.000000000     0.0000000000 \n",
       "7478  0.0052173913  0.0000000000   0.048743478    0.000000000     0.0000000000 \n",
       "7479  0.0000000000  0.0000000000   0.000000000    0.000000000     0.0000000000 \n",
       "7480  0.3639000000  0.3522800000   0.372600000    0.380000000     0.3884200000 \n",
       "7481  0.3039625000  0.2618666667   0.252687500    0.239808333     0.2390625000 \n",
       "7482 -0.0007193548  0.0025161290   0.000000000    0.000000000     0.0009387097 \n",
       "7483  0.0685400000  0.0641400000   0.000000000    0.025000000     0.1049000000 \n",
       "7484  0.9906200000  0.8800400000   0.887120000    0.386880000     0.3870800000 \n",
       "7485  0.0212906250  0.0421312500   0.009296875    0.006340625     0.0027750000 \n",
       "7486  1.0054500000  1.0063000000   0.946400000    0.938050000     0.9393500000 \n",
       "7487  0.0550920000  0.0403780000   0.024116000    0.029384000     0.0165480000 \n",
       "7488  0.9427000000  0.9942000000   0.952400000    0.302400000     0.0000000000 \n",
       "7489  0.5275529412  0.1826470588   0.000000000    0.000000000     0.0000000000 \n",
       "7490  0.2479888889  0.1593000000   0.082411111    0.007861111     0.2634277778 \n",
       "7491  0.0001086957  0.0009608696   0.001813043    0.002665217    -0.0008304348 \n",
       "7492  0.0052800000  0.0052800000   0.146000000    0.000000000     0.0000000000 \n",
       "7493  0.9942000000  0.0000000000   1.011020000    0.811800000     0.7876800000 \n",
       "7494  0.1463500000  0.1779694444   0.136125000    0.024100000     0.0541305556 \n",
       "7495  0.8357250000  0.8534875000   0.870925000    0.888375000     0.9201500000 \n",
       "7496  0.1099631579  0.0308894737   0.153805263    0.103242105     0.7814842105 \n",
       "7497  0.0401818182  0.0062227273   0.026927273    0.007995455     0.0082909091 \n",
       "7498  0.7651483871  0.7543677419   0.707770968    0.698516129     0.6795967742 \n",
       "7499  0.1436000000  0.1356000000   0.144100000    0.461750000     0.0859500000 \n",
       "7500  0.0000000000  0.0000000000   0.000000000    0.000000000     0.0000000000 "
      ]
     },
     "metadata": {},
     "output_type": "display_data"
    }
   ],
   "source": [
    "final_spec = nearest_neighbor(weight_func = \"rectangular\", neighbors = 95) %>%\n",
    "    set_engine(\"kknn\") %>%\n",
    "    set_mode(\"classification\")\n",
    "\n",
    "final_fit = workflow() %>%\n",
    "    add_recipe(debt_recipe) %>%\n",
    "    add_model(final_spec) %>%\n",
    "    fit(data = debt_train)\n",
    "final_fit\n",
    "\n",
    "debt_test_predictions = predict(final_fit, debt_test) %>%\n",
    "    bind_cols(debt_test)\n",
    "debt_test_predictions"
   ]
  },
  {
   "cell_type": "code",
   "execution_count": 81,
   "metadata": {},
   "outputs": [
    {
     "data": {
      "text/html": [
       "<table>\n",
       "<caption>A tibble: 2 × 3</caption>\n",
       "<thead>\n",
       "\t<tr><th scope=col>.metric</th><th scope=col>.estimator</th><th scope=col>.estimate</th></tr>\n",
       "\t<tr><th scope=col>&lt;chr&gt;</th><th scope=col>&lt;chr&gt;</th><th scope=col>&lt;dbl&gt;</th></tr>\n",
       "</thead>\n",
       "<tbody>\n",
       "\t<tr><td>accuracy</td><td>binary</td><td>0.777733333</td></tr>\n",
       "\t<tr><td>kap     </td><td>binary</td><td>0.005208483</td></tr>\n",
       "</tbody>\n",
       "</table>\n"
      ],
      "text/latex": [
       "A tibble: 2 × 3\n",
       "\\begin{tabular}{lll}\n",
       " .metric & .estimator & .estimate\\\\\n",
       " <chr> & <chr> & <dbl>\\\\\n",
       "\\hline\n",
       "\t accuracy & binary & 0.777733333\\\\\n",
       "\t kap      & binary & 0.005208483\\\\\n",
       "\\end{tabular}\n"
      ],
      "text/markdown": [
       "\n",
       "A tibble: 2 × 3\n",
       "\n",
       "| .metric &lt;chr&gt; | .estimator &lt;chr&gt; | .estimate &lt;dbl&gt; |\n",
       "|---|---|---|\n",
       "| accuracy | binary | 0.777733333 |\n",
       "| kap      | binary | 0.005208483 |\n",
       "\n"
      ],
      "text/plain": [
       "  .metric  .estimator .estimate  \n",
       "1 accuracy binary     0.777733333\n",
       "2 kap      binary     0.005208483"
      ]
     },
     "metadata": {},
     "output_type": "display_data"
    },
    {
     "data": {
      "text/plain": [
       "          Truth\n",
       "Prediction   no  yes\n",
       "       no  5822 1648\n",
       "       yes   19   11"
      ]
     },
     "metadata": {},
     "output_type": "display_data"
    }
   ],
   "source": [
    "accuracy = debt_test_predictions %>%\n",
    "    metrics(truth = default_status, estimate = .pred_class) \n",
    "\n",
    "confidence = debt_test_predictions %>%\n",
    "    conf_mat(truth = default_status, estimate = .pred_class)\n",
    "\n",
    "accuracy\n",
    "confidence"
   ]
  },
  {
   "cell_type": "code",
   "execution_count": null,
   "metadata": {},
   "outputs": [],
   "source": [
    "#TODO -- find a way to plot the confusion matrix"
   ]
  }
 ],
 "metadata": {
  "kernelspec": {
   "display_name": "R",
   "language": "R",
   "name": "ir"
  },
  "language_info": {
   "codemirror_mode": "r",
   "file_extension": ".r",
   "mimetype": "text/x-r-source",
   "name": "R",
   "pygments_lexer": "r",
   "version": "4.0.0"
  }
 },
 "nbformat": 4,
 "nbformat_minor": 4
}
