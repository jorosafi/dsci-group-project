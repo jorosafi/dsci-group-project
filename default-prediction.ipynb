{
 "cells": [
  {
   "cell_type": "code",
   "execution_count": 97,
   "metadata": {},
   "outputs": [],
   "source": [
    "library(tidyverse)\n",
    "library(repr)\n",
    "library(tidymodels)\n",
    "library(readxl)\n",
    "set.seed(9999)"
   ]
  },
  {
   "cell_type": "code",
   "execution_count": 136,
   "metadata": {},
   "outputs": [
    {
     "name": "stderr",
     "output_type": "stream",
     "text": [
      "New names:\n",
      "* `` -> ...1\n",
      "\n"
     ]
    },
    {
     "ename": "ERROR",
     "evalue": "Error: Problem with `mutate()` input `default_status`.\n\u001b[31m✖\u001b[39m object 'default_stats' not found\n\u001b[34mℹ\u001b[39m Input `default_status` is `as.factor(default_stats)`.\n",
     "output_type": "error",
     "traceback": [
      "Error: Problem with `mutate()` input `default_status`.\n\u001b[31m✖\u001b[39m object 'default_stats' not found\n\u001b[34mℹ\u001b[39m Input `default_status` is `as.factor(default_stats)`.\nTraceback:\n",
      "1. read_excel(\"data/default-cc-data.xls\") %>% select(-c(X1:X11)) %>% \n .     rename(client_id = \"...1\", sep_bill = X12, aug_bill = X13, \n .         july_bill = X14, june_bill = X15, may_bill = X16, april_bill = X17, \n .         sep_paid = X18, aug_paid = X19, july_paid = X20, june_paid = X21, \n .         may_paid = X22, april_paid = X23, default_status = Y) %>% \n .     slice(2:30001) %>% mutate_if(is.character, as.numeric) %>% \n .     mutate(client_id = as.character(client_id)) %>% mutate(default_status = case_when(default_status == \n .     \"1\" ~ \"yes\", default_status == \"0\" ~ \"no\")) %>% mutate(default_status = as.factor(default_stats))",
      "2. withVisible(eval(quote(`_fseq`(`_lhs`)), env, env))",
      "3. eval(quote(`_fseq`(`_lhs`)), env, env)",
      "4. eval(quote(`_fseq`(`_lhs`)), env, env)",
      "5. `_fseq`(`_lhs`)",
      "6. freduce(value, `_function_list`)",
      "7. withVisible(function_list[[k]](value))",
      "8. function_list[[k]](value)",
      "9. mutate(., default_status = as.factor(default_stats))",
      "10. mutate.data.frame(., default_status = as.factor(default_stats))",
      "11. mutate_cols(.data, ...)",
      "12. withCallingHandlers({\n  .     for (i in seq_along(dots)) {\n  .         not_named <- (is.null(dots_names) || dots_names[i] == \n  .             \"\")\n  .         chunks <- NULL\n  .         result <- NULL\n  .         if (quo_is_symbol(dots[[i]])) {\n  .             name <- as_string(quo_get_expr(dots[[i]]))\n  .             if (name %in% names(new_columns)) {\n  .                 result <- new_columns[[name]]\n  .                 chunks <- mask$get_resolved(name)\n  .             }\n  .             else if (name %in% names(.data)) {\n  .                 result <- .data[[name]]\n  .                 chunks <- mask$resolve(name)\n  .             }\n  .             if (inherits(.data, \"rowwise_df\") && vec_is_list(result)) {\n  .                 sizes <- list_sizes(result)\n  .                 wrong <- which(sizes != 1)\n  .                 if (length(wrong)) {\n  .                   group <- wrong[1L]\n  .                   mask$set_current_group(group)\n  .                   abort(x_size = sizes[group], class = \"dplyr:::mutate_incompatible_size\")\n  .                 }\n  .             }\n  .         }\n  .         if (is.null(chunks)) {\n  .             chunks <- mask$eval_all_mutate(dots[[i]])\n  .         }\n  .         mask$across_cache_reset()\n  .         if (is.null(chunks)) {\n  .             if (!is.null(dots_names) && dots_names[i] != \"\") {\n  .                 new_columns[[dots_names[i]]] <- zap()\n  .                 mask$remove(dots_names[i])\n  .             }\n  .             next\n  .         }\n  .         if (is.null(result)) {\n  .             if (length(rows) == 1) {\n  .                 result <- chunks[[1]]\n  .             }\n  .             else {\n  .                 result <- withCallingHandlers(vec_unchop(chunks, \n  .                   rows), vctrs_error_incompatible_type = function(cnd) {\n  .                   abort(class = \"dplyr:::error_mutate_incompatible_combine\", \n  .                     parent = cnd)\n  .                 })\n  .             }\n  .         }\n  .         if (not_named && is.data.frame(result)) {\n  .             new_columns[names(result)] <- result\n  .             map2(seq_along(result), names(result), function(i, \n  .                 nm) {\n  .                 mask$add(nm, pluck(chunks, i))\n  .             })\n  .         }\n  .         else {\n  .             name <- if (not_named) \n  .                 auto_named_dots[i]\n  .             else dots_names[i]\n  .             new_columns[[name]] <- result\n  .             mask$add(name, chunks)\n  .         }\n  .     }\n  . }, error = function(e) {\n  .     local_call_step(dots = dots, .index = i, .fn = \"mutate\", \n  .         .dot_data = inherits(e, \"rlang_error_data_pronoun_not_found\"))\n  .     call_step_envir <- peek_call_step()\n  .     error_name <- call_step_envir$error_name\n  .     error_expression <- call_step_envir$error_expression\n  .     show_group_details <- TRUE\n  .     if (inherits(e, \"dplyr:::mutate_incompatible_size\")) {\n  .         size <- vec_size(rows[[i]])\n  .         x_size <- e$x_size\n  .         bullets <- c(x = glue(\"Input `{error_name}` can't be recycled to size {size}.\"), \n  .             i = cnd_bullet_input_info(), i = glue(\"Input `{error_name}` must be size {or_1(size)}, not {x_size}.\"), \n  .             i = cnd_bullet_rowwise_unlist())\n  .     }\n  .     else if (inherits(e, \"dplyr:::mutate_mixed_null\")) {\n  .         show_group_details <- FALSE\n  .         bullets <- c(x = glue(\"`{error_name}` must return compatible vectors across groups.\"), \n  .             i = cnd_bullet_input_info(), i = \"Cannot combine NULL and non NULL results.\", \n  .             i = cnd_bullet_rowwise_unlist())\n  .     }\n  .     else if (inherits(e, \"dplyr:::mutate_not_vector\")) {\n  .         bullets <- c(x = glue(\"Input `{error_name}` must be a vector, not {friendly_type_of(e$result)}.\"), \n  .             i = cnd_bullet_input_info(), i = cnd_bullet_rowwise_unlist())\n  .     }\n  .     else if (inherits(e, \"dplyr:::error_mutate_incompatible_combine\")) {\n  .         show_group_details <- FALSE\n  .         bullets <- c(x = glue(\"Input `{error_name}` must return compatible vectors across groups\"), \n  .             i = cnd_bullet_input_info(), i = cnd_bullet_combine_details(e$parent$x, \n  .                 e$parent$x_arg), i = cnd_bullet_combine_details(e$parent$y, \n  .                 e$parent$y_arg))\n  .     }\n  .     else {\n  .         bullets <- c(x = conditionMessage(e), i = cnd_bullet_input_info())\n  .     }\n  .     abort(c(cnd_bullet_header(), bullets, i = if (show_group_details) cnd_bullet_cur_group_label()), \n  .         class = c(\"dplyr:::mutate_error\", \"dplyr_error\"), error_name = error_name, \n  .         error_expression = error_expression)\n  . }, warning = function(w) {\n  .     local_call_step(dots = dots, .index = i, .fn = \"mutate\")\n  .     warn(c(cnd_bullet_header(), i = conditionMessage(w), i = cnd_bullet_input_info(), \n  .         i = cnd_bullet_cur_group_label()))\n  . })",
      "13. mask$eval_all_mutate(dots[[i]])",
      "14. as.factor(default_stats)",
      "15. is.factor(x)",
      "16. .handleSimpleError(function (e) \n  . {\n  .     local_call_step(dots = dots, .index = i, .fn = \"mutate\", \n  .         .dot_data = inherits(e, \"rlang_error_data_pronoun_not_found\"))\n  .     call_step_envir <- peek_call_step()\n  .     error_name <- call_step_envir$error_name\n  .     error_expression <- call_step_envir$error_expression\n  .     show_group_details <- TRUE\n  .     if (inherits(e, \"dplyr:::mutate_incompatible_size\")) {\n  .         size <- vec_size(rows[[i]])\n  .         x_size <- e$x_size\n  .         bullets <- c(x = glue(\"Input `{error_name}` can't be recycled to size {size}.\"), \n  .             i = cnd_bullet_input_info(), i = glue(\"Input `{error_name}` must be size {or_1(size)}, not {x_size}.\"), \n  .             i = cnd_bullet_rowwise_unlist())\n  .     }\n  .     else if (inherits(e, \"dplyr:::mutate_mixed_null\")) {\n  .         show_group_details <- FALSE\n  .         bullets <- c(x = glue(\"`{error_name}` must return compatible vectors across groups.\"), \n  .             i = cnd_bullet_input_info(), i = \"Cannot combine NULL and non NULL results.\", \n  .             i = cnd_bullet_rowwise_unlist())\n  .     }\n  .     else if (inherits(e, \"dplyr:::mutate_not_vector\")) {\n  .         bullets <- c(x = glue(\"Input `{error_name}` must be a vector, not {friendly_type_of(e$result)}.\"), \n  .             i = cnd_bullet_input_info(), i = cnd_bullet_rowwise_unlist())\n  .     }\n  .     else if (inherits(e, \"dplyr:::error_mutate_incompatible_combine\")) {\n  .         show_group_details <- FALSE\n  .         bullets <- c(x = glue(\"Input `{error_name}` must return compatible vectors across groups\"), \n  .             i = cnd_bullet_input_info(), i = cnd_bullet_combine_details(e$parent$x, \n  .                 e$parent$x_arg), i = cnd_bullet_combine_details(e$parent$y, \n  .                 e$parent$y_arg))\n  .     }\n  .     else {\n  .         bullets <- c(x = conditionMessage(e), i = cnd_bullet_input_info())\n  .     }\n  .     abort(c(cnd_bullet_header(), bullets, i = if (show_group_details) cnd_bullet_cur_group_label()), \n  .         class = c(\"dplyr:::mutate_error\", \"dplyr_error\"), error_name = error_name, \n  .         error_expression = error_expression)\n  . }, \"object 'default_stats' not found\", base::quote(is.factor(x)))",
      "17. h(simpleError(msg, call))",
      "18. abort(c(cnd_bullet_header(), bullets, i = if (show_group_details) cnd_bullet_cur_group_label()), \n  .     class = c(\"dplyr:::mutate_error\", \"dplyr_error\"), error_name = error_name, \n  .     error_expression = error_expression)",
      "19. signal_abort(cnd)"
     ]
    }
   ],
   "source": [
    "df_default <- read_excel('data/default-cc-data.xls')  %>%\n",
    "    select(-c(X1:X11))%>%\n",
    "    rename(client_id = \"...1\", sep_bill = X12 , aug_bill= X13 , july_bill= X14,june_bill= X15, may_bill= X16, april_bill=X17,sep_paid= X18 ,aug_paid= X19, july_paid= X20, june_paid= X21 , may_paid= X22 ,april_paid= X23, default_status = Y)%>%\n",
    "    slice(2:30001) %>%\n",
    "    mutate_if(is.character, as.numeric) %>%\n",
    "    mutate(client_id = as.character(client_id)) %>%\n",
    "    mutate(default_status = case_when(default_status ==\"1\"~\"yes\", default_status== \"0\"~\"no\"))%>%\n",
    "    mutate(default_status = as.factor(default_stats))\n",
    "        \n",
    " \n",
    "\n",
    "head(df_default)"
   ]
  },
  {
   "cell_type": "code",
   "execution_count": null,
   "metadata": {},
   "outputs": [],
   "source": []
  },
  {
   "cell_type": "code",
   "execution_count": null,
   "metadata": {},
   "outputs": [],
   "source": []
  }
 ],
 "metadata": {
  "kernelspec": {
   "display_name": "R",
   "language": "R",
   "name": "ir"
  },
  "language_info": {
   "codemirror_mode": "r",
   "file_extension": ".r",
   "mimetype": "text/x-r-source",
   "name": "R",
   "pygments_lexer": "r",
   "version": "4.0.0"
  }
 },
 "nbformat": 4,
 "nbformat_minor": 4
}
